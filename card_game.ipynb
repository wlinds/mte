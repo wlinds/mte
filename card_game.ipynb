{
 "cells": [
  {
   "attachments": {},
   "cell_type": "markdown",
   "metadata": {},
   "source": [
    "This game is inspired by Hearthstone and is like, a two-player (or two-computer) game in which each player draws card units from a set, places them on their side of the board and then let the units fight each other.\n",
    "\n",
    "At the end of each battle, the ammount of units left on each side translates to the total damage dealt to the opposing player. When a player reaches 0 HP, the game is over.\n",
    "\n",
    "Some ideas:\n",
    "\n",
    "- Have multiple matrices (overlaying boards) for attack value and defense values for each unit, not just health.\n",
    "    - Or just have vectors in the matrice containing stats for the unit??\n",
    "    - if we do this, another layout would be needed, as the current layout only handles one value for each unit\n",
    "    - but it would be cool to do and make it much more interesting and lärorikt i guess\n",
    "\n",
    "    <br>\n",
    "\n",
    "- Have units which buffs other units if they are placed next to them.\n",
    "\n",
    "- Have units merge if they are similar in some way??\n",
    "    - This also means having to create different unit-types, which would be fun!\n",
    "\n",
    "    <br>\n",
    "\n",
    "- Have units move to different spaces. This is an intersting one. Maybe attack could increase if some units are closer?\n",
    "\n",
    "TODO:\n",
    "\n",
    "How should the units be distributed between the players? How should it be randomized? Just draw a couple from a deck probably.\n",
    "\n",
    "Adjust attack patterns. Right now its simply just row subtraction.\n",
    "\n",
    "\n",
    "Also, this is written to work with jupyter notebook, some adjustments needed for .py to avoid re-running functions etc."
   ]
  },
  {
   "cell_type": "code",
   "execution_count": 1,
   "metadata": {},
   "outputs": [
    {
     "name": "stdout",
     "output_type": "stream",
     "text": [
      "[[0. 0. 0. 0.]\n",
      " [0. 0. 0. 0.]\n",
      " [0. 0. 0. 0.]\n",
      " [0. 0. 0. 0.]]\n"
     ]
    }
   ],
   "source": [
    "# Generating board, any 2 dimensional size should work\n",
    "import numpy as np\n",
    "board = np.zeros((4,4)) # but lower are better for testing\n",
    "print(board)"
   ]
  },
  {
   "cell_type": "code",
   "execution_count": 2,
   "metadata": {},
   "outputs": [
    {
     "data": {
      "text/plain": [
       "([4, 7, 1, 6, 5, 8, 9, 2, 3], [5, 2, 6, 9, 8, 7, 1, 3, 4])"
      ]
     },
     "execution_count": 2,
     "metadata": {},
     "output_type": "execute_result"
    }
   ],
   "source": [
    "# Player health, players lose one HP per unit left on opponent side after battle phase\n",
    "P1_health = len(board) * 10\n",
    "P2_health = len(board) * 10\n",
    "\n",
    "# Player name\n",
    "P1 = 'P1 Fried'\n",
    "P2 = 'P2 Toast'\n",
    "\n",
    "# Testing health values of units in hand to be placed on the board\n",
    "# this should probably be a hand drawn from a deck, like, draw one card each turn, start with 3 or smt\n",
    "# maybe write algos to make predictions on which cards to play\n",
    "# i mean at the current state the best algo would just play the card with the highest health value, but adding more parameters could make it interesting\n",
    "P1_hand = [2,0,0]\n",
    "P2_hand = [2,0,0]\n",
    "\n",
    "# if we do the vector idea (which we totally should) these would represent playable card units\n",
    "# rn for testing it only represents UNIT HEALTH \n",
    "P1_deck = [1,2,3,4,5,6,7,8,9]\n",
    "P2_deck = [1,2,3,4,5,6,7,8,9]\n",
    "\n",
    "# pretty good function, works with lists\n",
    "np.random.shuffle(P1_deck)\n",
    "np.random.shuffle(P2_deck)\n",
    "\n",
    "P1_deck, P2_deck"
   ]
  },
  {
   "cell_type": "code",
   "execution_count": 3,
   "metadata": {},
   "outputs": [],
   "source": [
    "def draw_card(player, hand, deck):\n",
    "    print(f'{draw_card} running for {player}')\n",
    "\n",
    "    # If hand is full\n",
    "    if np.count_nonzero(hand) >= len(hand):\n",
    "        return None\n",
    "\n",
    "    for i, card in enumerate(hand):\n",
    "        if card == 0:\n",
    "            break\n",
    "        print(f'Current {hand=}')\n",
    "    print(f'Card drawn={deck[0]}')\n",
    "    hand[i] = deck[0]\n",
    "    print(f'New {hand=}')\n",
    "    deck.pop(0)\n",
    "\n",
    "    return hand, deck\n",
    "\n",
    "def remove_card(player, hand):\n",
    "    hand.pop(0)\n",
    "    hand.append(0)\n",
    "    print(f'Card removed from {player} hand')\n",
    "    return hand\n",
    "\n",
    "\n",
    "def select_card(player, hand):\n",
    "    pass\n",
    "    "
   ]
  },
  {
   "cell_type": "code",
   "execution_count": 4,
   "metadata": {},
   "outputs": [
    {
     "name": "stdout",
     "output_type": "stream",
     "text": [
      "<function draw_card at 0x11e7940d0> running for P1 Fried\n",
      "Current hand=[2, 0, 0]\n",
      "Card drawn=4\n",
      "New hand=[2, 4, 0]\n"
     ]
    }
   ],
   "source": [
    "try:\n",
    "    P1_hand, P1_deck = draw_card(P1, P1_hand, P1_deck)\n",
    "\n",
    "except:\n",
    "    print(f'Hand is full = {P1_hand}. {draw_card} aborted!')"
   ]
  },
  {
   "cell_type": "code",
   "execution_count": 5,
   "metadata": {},
   "outputs": [
    {
     "name": "stdout",
     "output_type": "stream",
     "text": [
      "Card removed from P1 Fried hand\n"
     ]
    },
    {
     "data": {
      "text/plain": [
       "[4, 0, 0]"
      ]
     },
     "execution_count": 5,
     "metadata": {},
     "output_type": "execute_result"
    }
   ],
   "source": [
    "P1_hand = remove_card(P1,P1_hand)\n",
    "P1_hand"
   ]
  },
  {
   "cell_type": "code",
   "execution_count": 6,
   "metadata": {},
   "outputs": [
    {
     "name": "stdout",
     "output_type": "stream",
     "text": [
      "board.shape=(4, 4), placing unit for P1 Fried\n",
      "<function select_tile at 0x11c782f70> running for player='P1 Fried'\n",
      "P1 Fried placed a unit with health 4 at [4, 1]\n"
     ]
    },
    {
     "data": {
      "text/plain": [
       "array([[0., 0., 0., 0.],\n",
       "       [0., 0., 0., 0.],\n",
       "       [0., 0., 0., 0.],\n",
       "       [4., 0., 0., 0.]])"
      ]
     },
     "execution_count": 6,
     "metadata": {},
     "output_type": "execute_result"
    }
   ],
   "source": [
    "def place_unit(board, player, player_hand):\n",
    "\n",
    "    # max values might not be needed after all, but good for testing different board sizes\n",
    "    max_width = len(board[0])-1\n",
    "    max_height = len(board)-1\n",
    "\n",
    "    print(f'{board.shape=}, placing unit for {player}')\n",
    "\n",
    "    try:\n",
    "        x, y = select_tile(board, max_width, max_height, player) # tuple unpacking of coords for unit placement\n",
    "\n",
    "        \n",
    "        board[x,y] = player_hand[0]\n",
    "\n",
    "        print(f'{player} placed a unit with health {player_hand[0]} at {[x+1,y+1]}')\n",
    "        return board\n",
    "\n",
    "    except:\n",
    "        print(f'Cannot find tile, {player} unit row is full!')\n",
    "        return board\n",
    "\n",
    "def select_tile(board, max_x, max_y, player) -> tuple:\n",
    "    \"\"\"Finds available tile to place unit on board.\n",
    "    Starts on the left and continues for each available column for each player\n",
    "    TODO: Maybe shuffle units, or make old units get pushed to the right once new ones are placed?\n",
    "    \"\"\"\n",
    "\n",
    "    print(f'{select_tile} running for {player=}')\n",
    "\n",
    "    # if board is full for either player, return None\n",
    "    if player == P1 and board[max_x][-1] != 0 or player == P2 and board[0][-1] !=0:\n",
    "        return None\n",
    "\n",
    "    # find available tile for P1 (bottom row) and P2 (top row)\n",
    "    if player == P1:\n",
    "        row = max_x\n",
    "        column = 0\n",
    "        while board[row][column] != 0:\n",
    "            column +=1\n",
    "        return row, column\n",
    "\n",
    "    #P2\n",
    "    row = 0\n",
    "    column = 0\n",
    "    while board[row][column] != 0:\n",
    "        column +=1\n",
    "    return row, column\n",
    "\n",
    "place_unit(board, player=P1, player_hand=P1_hand)"
   ]
  },
  {
   "cell_type": "code",
   "execution_count": 7,
   "metadata": {},
   "outputs": [
    {
     "name": "stdout",
     "output_type": "stream",
     "text": [
      "board.shape=(4, 4), placing unit for P1 Fried\n",
      "<function select_tile at 0x11c782f70> running for player='P1 Fried'\n",
      "P1 Fried placed a unit with health 4 at [4, 2]\n",
      "board.shape=(4, 4), placing unit for P2 Toast\n",
      "<function select_tile at 0x11c782f70> running for player='P2 Toast'\n",
      "P2 Toast placed a unit with health 2 at [1, 1]\n",
      "board.shape=(4, 4), placing unit for P1 Fried\n",
      "<function select_tile at 0x11c782f70> running for player='P1 Fried'\n",
      "P1 Fried placed a unit with health 4 at [4, 3]\n",
      "board.shape=(4, 4), placing unit for P2 Toast\n",
      "<function select_tile at 0x11c782f70> running for player='P2 Toast'\n",
      "P2 Toast placed a unit with health 2 at [1, 2]\n",
      "board.shape=(4, 4), placing unit for P1 Fried\n",
      "<function select_tile at 0x11c782f70> running for player='P1 Fried'\n",
      "P1 Fried placed a unit with health 4 at [4, 4]\n",
      "board.shape=(4, 4), placing unit for P2 Toast\n",
      "<function select_tile at 0x11c782f70> running for player='P2 Toast'\n",
      "P2 Toast placed a unit with health 2 at [1, 3]\n",
      "board.shape=(4, 4), placing unit for P1 Fried\n",
      "<function select_tile at 0x11c782f70> running for player='P1 Fried'\n",
      "Cannot find tile, P1 Fried unit row is full!\n",
      "board.shape=(4, 4), placing unit for P2 Toast\n",
      "<function select_tile at 0x11c782f70> running for player='P2 Toast'\n",
      "P2 Toast placed a unit with health 2 at [1, 4]\n"
     ]
    },
    {
     "data": {
      "text/plain": [
       "array([[2., 2., 2., 2.],\n",
       "       [0., 0., 0., 0.],\n",
       "       [0., 0., 0., 0.],\n",
       "       [4., 4., 4., 4.]])"
      ]
     },
     "execution_count": 7,
     "metadata": {},
     "output_type": "execute_result"
    }
   ],
   "source": [
    "# testing to place basic units\n",
    "for length in board:\n",
    "    place_unit(board, player=P1, player_hand=P1_hand)\n",
    "    place_unit(board, player=P2, player_hand=P2_hand)\n",
    "board"
   ]
  },
  {
   "cell_type": "code",
   "execution_count": 8,
   "metadata": {},
   "outputs": [
    {
     "name": "stdout",
     "output_type": "stream",
     "text": [
      "P2: [0. 0. 0. 0.], units left = 0\n",
      "P1: [2. 2. 2. 2.], units left = 4\n",
      "P1 dealt 4 damage to P2.\n",
      "44 36\n"
     ]
    }
   ],
   "source": [
    "def battle_phase(board, P1_health, P2_health):\n",
    "\n",
    "    # so right now this is a very boring attack pattern, it just mirrors the same column values and subtracts\n",
    "    P2_row = board[0]-board[-1]\n",
    "    P1_row = board[-1]-board[0]\n",
    "\n",
    "    # remove units if health is < 0\n",
    "    board[0] = [0 if i < 0 else i for i in P2_row]\n",
    "    board[-1] = [0 if i < 0 else i for i in P1_row]\n",
    "\n",
    "    # count non-zero values for units left/damage dealt\n",
    "    P2_units_left, P1_units_left = np.count_nonzero(board[0]), np.count_nonzero(board[-1])\n",
    "\n",
    "    print(f'P2: {board[0]}, units left = {P2_units_left}')\n",
    "    print(f'P1: {board[-1]}, units left = {P1_units_left}')\n",
    "\n",
    "    if P2_units_left > P1_units_left:\n",
    "        P1_health -= P2_units_left\n",
    "        print(f'P2 dealt {P2_units_left} damage to P1.')\n",
    "\n",
    "    elif P1_units_left > P2_units_left:\n",
    "        P2_units_left -= P1_units_left\n",
    "        print(f'P1 dealt {P1_units_left} damage to P2.')\n",
    "\n",
    "    else:\n",
    "        print('Draw, no damage dealt.')\n",
    "    \n",
    "    return board, P2_units_left, P1_units_left\n",
    "\n",
    "board, P2_damage_dealt, P1_damage_dealt = battle_phase(board, P2_health, P1_health)\n",
    "\n",
    "P1_health -= P2_damage_dealt\n",
    "P2_health -= P1_damage_dealt\n",
    "print(P1_health, P2_health)"
   ]
  },
  {
   "attachments": {},
   "cell_type": "markdown",
   "metadata": {},
   "source": [
    "The entire battle_phase will have to be refactored for multiple matrices. Maybe the best idea is to have the main board containing vectors which represents the unit, with each vector holding the health, attack etc. values?\n",
    "\n",
    "But for now, it's just simply health and attack as the same value for the same position on the board.\n",
    "\n",
    "So if for example we're left with this board:\n",
    "\n",
    "```\n",
    "P2: [1. 1. 1. 1.], units left = 4\n",
    "P1: [0. 0. 0. 0.], units left = 0\n",
    "P2 dealt 4 damage to P1.\n",
    "````\n",
    "P2 would not be able to place any more units the next turn. So we have to make a decision on how to handle that.\n",
    "If we leave it as is, the player who wins the turn will be much less likely to win the next turn, given the remaining units will have on average much lower health, while P1 will be able to place new units with full health.\n",
    "\n",
    "On the other hand, if we incorporate a 'card draw' mechanic, the player who's not able to place any units will have more cards(units) to place the next turn.\n",
    "\n",
    "I guess we'll just have to experiment.\n",
    "\n"
   ]
  },
  {
   "cell_type": "markdown",
   "metadata": {},
   "source": []
  }
 ],
 "metadata": {
  "kernelspec": {
   "display_name": "Python 3",
   "language": "python",
   "name": "python3"
  },
  "language_info": {
   "codemirror_mode": {
    "name": "ipython",
    "version": 3
   },
   "file_extension": ".py",
   "mimetype": "text/x-python",
   "name": "python",
   "nbconvert_exporter": "python",
   "pygments_lexer": "ipython3",
   "version": "3.9.13"
  },
  "orig_nbformat": 4,
  "vscode": {
   "interpreter": {
    "hash": "aee8b7b246df8f9039afb4144a1f6fd8d2ca17a180786b69acc140d282b71a49"
   }
  }
 },
 "nbformat": 4,
 "nbformat_minor": 2
}
