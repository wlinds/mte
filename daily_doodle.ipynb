{
 "cells": [
  {
   "attachments": {},
   "cell_type": "markdown",
   "metadata": {},
   "source": [
    "**Day 0**\n",
    "\n",
    ">Me: give me a super simple math problem to solve, we're talking like grade school arithmetic but formulate it like an illiterate peasant from the 15th century\n",
    "\n",
    ">chatGPT: Ahoy! Me needeth thee to answereth this poser: if me have 3 apples and me give 2 to me mate, how many apples be left for me to enjoy with me ale?\n",
    "\n",
    "<img src=https://cdn.historycollection.com/wp-content/uploads/2018/09/Peasants-pic-11-Wikimedia-Commons.jpg>"
   ]
  },
  {
   "cell_type": "code",
   "execution_count": 466,
   "metadata": {},
   "outputs": [
    {
     "name": "stdout",
     "output_type": "stream",
     "text": [
      "1\n"
     ]
    },
    {
     "data": {
      "text/plain": [
       "True"
      ]
     },
     "execution_count": 466,
     "metadata": {},
     "output_type": "execute_result"
    }
   ],
   "source": [
    "print(3-2)\n",
    "\n",
    "\"\"\"proof\"\"\"\n",
    "1 == 3-2"
   ]
  },
  {
   "attachments": {},
   "cell_type": "markdown",
   "metadata": {},
   "source": [
    ">Me: Ahoy! I reckon you will have one apple and your mate will have two! How generous!\n",
    "\n",
    ">chatGPT: Ye be a clever one, matey! 'Tis correct! Ye have solved the poser with ease. Enjoy ye one apple and me hope ye find it to be a delicious treat!\n",
    "\n",
    "OK that was stupid, but it's a proof of concept. I will be asking chatGPT (OR someone else/myself) for a math problem to solve with Python each day until whenever I'm fed up with this idea.\n",
    "\n",
    "*Disclaimer: As I've previously used chatGPT and received some rather... creative calculations, I think it's a good idea to double check that the answers is indeed correct through other means.*\n",
    "\n",
    "---"
   ]
  },
  {
   "attachments": {},
   "cell_type": "markdown",
   "metadata": {},
   "source": [
    "**Day 1**\n",
    "\n",
    "> Me: Give me a very easy linear system of equations to solve.\n",
    "\n",
    ">chatGPT: Sure, here's a simple one:\n",
    "\n",
    "$x + y + z = 6$\n",
    "\n",
    "$2x + 2y + 2z = 12$\n",
    "\n",
    "$3x + 3y + 3z = 18$\n",
    "\n",
    "<img src='https://wojakparadise.net/wojak/9450/img'>\n",
    "\n",
    "Interesting, this look like some kind of arithmic sequence.\n",
    "Just by looking at it I can tell there's an easy solution:\n",
    "letting all coefficients (x,y,x) equal to 2.\n",
    "\n",
    "Let's try it."
   ]
  },
  {
   "cell_type": "code",
   "execution_count": 467,
   "metadata": {},
   "outputs": [
    {
     "name": "stdout",
     "output_type": "stream",
     "text": [
      "Equation 1 is satisfied.\n",
      "Equation 2 is satisfied.\n",
      "Equation 3 is satisfied.\n",
      "True True True\n"
     ]
    }
   ],
   "source": [
    "import numpy as np\n",
    "coeff = np.array([[1, 1, 1],\n",
    "                  [2, 2, 2],\n",
    "                  [3, 3, 3]])\n",
    "const = np.array( [6, 12, 18])\n",
    "\n",
    "# Since we assume all coefficients have the same value, we can create a rather unconventional loop\n",
    "for i in range(3):\n",
    "    if coeff[i].sum() * 2 != const[i]:\n",
    "        print(f\"Equation {i+1} is not satisfied.\")\n",
    "    else:\n",
    "        print(f\"Equation {i+1} is satisfied.\")\n",
    "x,y,z = 2,2,2\n",
    "\n",
    "# \"Proof\"\n",
    "print(sum(coeff[0])*x == const[0], sum(coeff[1])*y == const[1], sum(coeff[2])*z == const[2])\n"
   ]
  },
  {
   "cell_type": "code",
   "execution_count": 468,
   "metadata": {},
   "outputs": [
    {
     "name": "stdout",
     "output_type": "stream",
     "text": [
      "[0 0 0]\n",
      "0\n",
      "hm, ok, this doesn't work, what about\n",
      "[1 1 1]\n",
      "6\n",
      "ok, now we just got the first equation\n"
     ]
    }
   ],
   "source": [
    "# Well, I'm glad that worked out, but what if I intuitively didn't 'see' the 2? How could I have satisfied the equations?\n",
    "# Also, are there other possible solutions? I guess we could try to create some rrf.\n",
    "\n",
    "print((coeff[0] * - 2) + coeff[1])\n",
    "print((const[0] * - 2) + const[1])\n",
    "print(\"hm, ok, this doesn't work, what about\")\n",
    "print((coeff[0] * - 1) + coeff[1])\n",
    "print((const[0] * - 1) + const[1])\n",
    "print(\"ok, now we just got the first equation\")\n",
    "\n",
    "# yeah imma get back to this, maybe"
   ]
  },
  {
   "attachments": {},
   "cell_type": "markdown",
   "metadata": {},
   "source": [
    "---\n",
    "\n",
    "**Day 2**\n",
    "\n",
    ">Me: Give me a challenge in probability by using Hearthstone as an example scenario. Perhaps some card drawing mechanics or lethal probability by drawing a certain card etc.\n",
    "\n",
    ">chatGPT: Sure, here's a challenge for you!\n",
    " Let's say you're playing Hearthstone and you have a certain deck of 30 cards. In this deck, there are 4 legendary cards, 10 rare cards, 12 common cards and 4 basic cards.\n",
    " Challenge:\n",
    " What is the probability of drawing a legendary card in the first 3 draws of your deck, assuming the cards are not replaced once they have been drawn?\n",
    "\n",
    " <img src='https://liquipedia.net/commons/images/6/6b/Garrosh_Hellscream.png'>"
   ]
  },
  {
   "cell_type": "code",
   "execution_count": 469,
   "metadata": {},
   "outputs": [
    {
     "name": "stdout",
     "output_type": "stream",
     "text": [
      "Probability of drawing a legendary card on the first three draws: 14.557%\n"
     ]
    }
   ],
   "source": [
    "# There are multiple ways (obviously) to aproach this challenge.\n",
    "\n",
    "draw1, draw2, draw3 = 4/30, 4/29, 4/28\n",
    "print(f'Probability of drawing a legendary card on the first three draws: {(draw1+draw2+draw3 * 100):.3f}%')"
   ]
  },
  {
   "attachments": {},
   "cell_type": "markdown",
   "metadata": {},
   "source": [
    "---\n",
    "**Day 3**\n",
    "\n",
    ">Me: can u create another hearthstone challenge, any math is ok\n",
    "\n",
    "<blockquote>chatGPT: Sure, here's a more specific Hearthstone challenge for you: <br><br>\n",
    "Suppose you have a deck of 30 cards, containing 10 spells, 18 minions, and 2 weapons. The spell cards have a mana cost between 1 and 4 mana, the minions have a mana cost between 1 and 8 mana, and the weapons have a mana cost of 2 and 4 mana.\n",
    "\n",
    "Challenge:\n",
    "\n",
    "What is the probability of having a hand of 5 cards with a total mana cost of 10 or less, assuming that you draw 5 cards from your deck at the start of the game?\n",
    "\n",
    "Hint: You may want to consider the number of cards with each mana cost, the number of different ways you can choose 5 cards with a total mana cost of 10 or less, and the different combinations of spells, minions, and weapons that can add up to 10 or less mana cost.</blockquote>"
   ]
  },
  {
   "cell_type": "code",
   "execution_count": 470,
   "metadata": {},
   "outputs": [
    {
     "name": "stdout",
     "output_type": "stream",
     "text": [
      "With a deck of 10 spells, 18 minions and 2 weapons:\n",
      "Each spell card mana: [3, 4, 1, 3, 3, 4, 1, 1, 3, 2]\n",
      "Each minion card mana: [3, 7, 3, 3, 8, 5, 4, 8, 8, 3, 6, 5, 2, 8, 4, 6, 6, 2]\n",
      "Each weapon card mana: [2, 2]\n",
      "Deck still has 30 cards: True\n"
     ]
    }
   ],
   "source": [
    "import numpy as np\n",
    "np.random.seed(42) # to keep consistency when testing functions\n",
    "\n",
    "# I decide  to pre-determine the mana cost for all cards\n",
    "# we /could/ use some kind of wave function collapse for\n",
    "# card mana values but that might be a bit of an overkill\n",
    "# another aproach would be to not pre-determ values and sum ALL probabilities\n",
    "\n",
    "# Anyway: randomize 30 cards within specified mana range for each type of card\n",
    "random_cards = np.array([[np.random.randint(low=1, high=5, size=10)],   # Spells\n",
    "                         [np.random.randint(low=1, high=9, size=18)],   # Minions\n",
    "                         [np.random.randint(low=2, high=5, size =2)]],  # Weapons\n",
    "                         dtype=object)\n",
    "\n",
    "# list comprehenstion\n",
    "deck = [random_cards[i][0].tolist() for i in range(len(random_cards))]\n",
    "\n",
    "# check if everything is correct\n",
    "print(f'With a deck of {len(deck[0])} spells, {len(deck[1])} minions and {len(deck[2])} weapons:')\n",
    "print(f'Each spell card mana: {deck[0]}')\n",
    "print(f'Each minion card mana: {deck[1]}')\n",
    "print(f'Each weapon card mana: {deck[2]}')\n",
    "\n",
    "# But since it doesn't matter what type of card we draw\n",
    "only_mana = [foo for bar in deck for foo in bar] # readability /s\n",
    "\n",
    "print(f'Deck still has 30 cards: {len(only_mana) == 30}')"
   ]
  },
  {
   "cell_type": "code",
   "execution_count": 471,
   "metadata": {},
   "outputs": [
    {
     "name": "stdout",
     "output_type": "stream",
     "text": [
      "[1, 1, 1, 2, 2, 2, 2, 2, 3, 3, 3, 3, 3, 3, 3, 3, 4, 4, 4, 4, 5, 5, 6, 6, 6, 7, 8, 8, 8, 8] sum = 120 \n",
      " \n",
      "mean*5=20.0\n"
     ]
    }
   ],
   "source": [
    "# first let's just do a rough estimate\n",
    "only_mana.sort() # sort list\n",
    "print(f'{only_mana} sum = {sum(only_mana)} \\n ')\n",
    "\n",
    "mean = sum(only_mana)/len(only_mana)\n",
    "\n",
    "print(f'{mean*5=}')"
   ]
  },
  {
   "cell_type": "code",
   "execution_count": 472,
   "metadata": {},
   "outputs": [
    {
     "data": {
      "text/html": [
       "<div>\n",
       "<style scoped>\n",
       "    .dataframe tbody tr th:only-of-type {\n",
       "        vertical-align: middle;\n",
       "    }\n",
       "\n",
       "    .dataframe tbody tr th {\n",
       "        vertical-align: top;\n",
       "    }\n",
       "\n",
       "    .dataframe thead th {\n",
       "        text-align: right;\n",
       "    }\n",
       "</style>\n",
       "<table border=\"1\" class=\"dataframe\">\n",
       "  <thead>\n",
       "    <tr style=\"text-align: right;\">\n",
       "      <th></th>\n",
       "      <th>count</th>\n",
       "      <th>mean</th>\n",
       "      <th>std</th>\n",
       "      <th>min</th>\n",
       "      <th>25%</th>\n",
       "      <th>50%</th>\n",
       "      <th>75%</th>\n",
       "      <th>max</th>\n",
       "    </tr>\n",
       "  </thead>\n",
       "  <tbody>\n",
       "    <tr>\n",
       "      <th>Mana cost</th>\n",
       "      <td>30.0</td>\n",
       "      <td>4.0</td>\n",
       "      <td>2.212815</td>\n",
       "      <td>1.0</td>\n",
       "      <td>2.25</td>\n",
       "      <td>3.0</td>\n",
       "      <td>5.75</td>\n",
       "      <td>8.0</td>\n",
       "    </tr>\n",
       "  </tbody>\n",
       "</table>\n",
       "</div>"
      ],
      "text/plain": [
       "           count  mean       std  min   25%  50%   75%  max\n",
       "Mana cost   30.0   4.0  2.212815  1.0  2.25  3.0  5.75  8.0"
      ]
     },
     "execution_count": 472,
     "metadata": {},
     "output_type": "execute_result"
    }
   ],
   "source": [
    "# the average hand, using very simple est methods, would have a theoretical cost of 20 mana\n",
    "# with this estimation, we can assume probability of a hand to have < 10 mana will be very low\n",
    "\n",
    "# actually let's do some more statistics with pandas\n",
    "import pandas as pd\n",
    "df = pd.DataFrame({'Mana cost': only_mana})\n",
    "\n",
    "df.describe().T"
   ]
  },
  {
   "attachments": {},
   "cell_type": "markdown",
   "metadata": {},
   "source": [
    "Let's get some notation in here because I need to become better at that.\n",
    "\n",
    "**Binomial coefficient formula**\n",
    "<h2> \n",
    "\n",
    "$n \\choose k$ = $\\frac{n!}{k!(n-k)!}$\n",
    "\n",
    "</h2>\n",
    "\n",
    "$n$ is used to calculate the number of **combinations** of size $k$ that can be selected from a set of $n$ items.\n",
    "\n",
    "**Permutation formula**\n",
    "\n",
    "<h2>\n",
    "\n",
    "$_n P _r$ = $\\frac{n!}{n-r!}$\n",
    "\n",
    "</h2>\n",
    "\n",
    "$n$ = total number of objects / set / population <br>\n",
    "$r$ = number of objects selected / subset of n or sample set\n",
    "\n",
    "Here $n$ is used to calculate the number of **arrangements** of $r$ items that can be selected from a set of $n$ items.\n"
   ]
  },
  {
   "cell_type": "code",
   "execution_count": 473,
   "metadata": {},
   "outputs": [
    {
     "name": "stdout",
     "output_type": "stream",
     "text": [
      "There are 142506 possivle combinations of 5 drawn cards in a deck of 30 cards. \n",
      "\n",
      "There are 17100720 possible arrangements of 5 drawn cards in a deck of 30 cards. \n",
      "\n",
      "Given a partially randomized mana cost for each card, how many of these combinations add up to 10 or less mana?\n"
     ]
    }
   ],
   "source": [
    "# the deck can be shuffled in 30! (factorial) combinations but we're interested in a hand of five cards\n",
    "\n",
    "# Binomial coefficient formula: n choose k = n! / (k! * (n-k)!)\n",
    "# we could import factorial function from math library or use scipy library but this should work as well\n",
    "\n",
    "def fact(n):\n",
    "    if n == 0: return 1\n",
    "    else: return n * fact(n - 1)\n",
    "\n",
    "def binom_coeff(n,k):\n",
    "    return fact(n)/(fact(k) * fact(n-k))\n",
    "\n",
    "n = 30 # cards in deck\n",
    "k = 5  # cards in hand\n",
    "\n",
    "print(f\"There are {int(binom_coeff(n,k))} possivle combinations of {k} drawn cards in a deck of {n} cards. \\n\")\n",
    "\n",
    "def permutation(n,r):\n",
    "    return fact(n)/fact(n-r)\n",
    "\n",
    "print(f\"There are {int(permutation(n,k))} possible arrangements of {k} drawn cards in a deck of {n} cards. \\n\")\n",
    "\n",
    "print('Given a partially randomized mana cost for each card, how many of these combinations add up to 10 or less mana?')\n",
    "\n"
   ]
  },
  {
   "cell_type": "code",
   "execution_count": 474,
   "metadata": {},
   "outputs": [
    {
     "data": {
      "text/plain": [
       "array([0, 3, 5, 8, 4, 2, 3, 1, 4])"
      ]
     },
     "execution_count": 474,
     "metadata": {},
     "output_type": "execute_result"
    }
   ],
   "source": [
    "np.bincount(only_mana) # damn i need to learn more numpy"
   ]
  },
  {
   "attachments": {},
   "cell_type": "markdown",
   "metadata": {},
   "source": [
    "**Cartesian product maybe can help**"
   ]
  },
  {
   "cell_type": "code",
   "execution_count": 475,
   "metadata": {},
   "outputs": [
    {
     "name": "stdout",
     "output_type": "stream",
     "text": [
      "Iteration 1: [3 7 5 8 3]\n",
      "Iteration 2: [6 4 8 8 3]\n",
      "Iteration 3: [8 8 3 3 8]\n",
      "Iteration 4: [8 3 8 4 3]\n",
      "Iteration 5: [6 4 6 1 2]\n",
      "Iteration 6: [4 2 5 3 2]\n",
      "Iteration 7: [4 2 6 8 3]\n",
      "Iteration 8: [4 7 3 7 5]\n",
      "Iteration 9: [1 4 8 3 8]\n",
      "Iteration 10: [2 3 8 2 3]\n",
      "Iteration 11: [1 3 4 2 4]\n",
      "Iteration 12: [2 2 1 8 2]\n",
      "Iteration 13: [5 3 2 5 8]\n",
      "Iteration 14: [4 7 3 1 3]\n",
      "Iteration 15: [8 2 3 3 3]\n",
      "Iteration 16: [2 3 6 8 6]\n",
      "Iteration 17: [8 2 5 3 3]\n",
      "Iteration 18: [4 3 5 6 7]\n",
      "Iteration 19: [6 8 8 8 3]\n",
      "Iteration 20: [3 8 3 3 1]\n",
      "Iteration 21: [6 2 3 6 1]\n",
      "Iteration 22: [3 2 6 3 4]\n",
      "Iteration 23: [4 2 1 1 1]\n",
      "Final hand: [4 2 1 1 1]\n",
      "Number of iterations: 24\n"
     ]
    }
   ],
   "source": [
    "# The brute force loop method - because Python is more fun than theoretical statistics (sry bout it x)\n",
    "hand = only_mana\n",
    "\n",
    "# might wanna use enumerate here...\n",
    "count = 0\n",
    "\n",
    "# Loop while the sum of mana cost from drawn cards >10\n",
    "while sum(hand) > 10:\n",
    "    # Update the list by randomly selecting a value to decrease by 1\n",
    "    hand = np.random.choice(only_mana, size=5)\n",
    "    print(f\"Iteration {count+1}: {hand}\")\n",
    "    count += 1\n",
    "\n",
    "print(f\"Final hand: {hand}\")\n",
    "print(f\"Number of iterations: {count +1}\")\n"
   ]
  },
  {
   "cell_type": "code",
   "execution_count": 476,
   "metadata": {},
   "outputs": [
    {
     "data": {
      "text/plain": [
       "(7, array([1, 1, 2, 3, 3]))"
      ]
     },
     "execution_count": 476,
     "metadata": {},
     "output_type": "execute_result"
    }
   ],
   "source": [
    "# ok now we just run this loop like a thousand times and check the values (this is so stupid...)\n",
    "# let's quickly rewrite the the loop and make it callable\n",
    "\n",
    "def nested_af():\n",
    "    hand = only_mana\n",
    "    # Initialize iteration count to 0\n",
    "    count = 0\n",
    "\n",
    "    # Loop while the sum of mana cost from drawn cards >10\n",
    "    while sum(hand) > 10:\n",
    "        # Update the list by randomly selecting a value to decrease by 1\n",
    "        hand = np.random.choice(only_mana, size=5)\n",
    "        count += 1\n",
    "\n",
    "    # returns array with the iteration count and the final, <10 mana cost hand\n",
    "    return count +1, hand\n",
    "\n",
    "\n",
    "a, b = nested_af()\n",
    "a, b # ok it works, let's run it"
   ]
  },
  {
   "cell_type": "code",
   "execution_count": 482,
   "metadata": {},
   "outputs": [
    {
     "data": {
      "text/plain": [
       "0.50086100469601"
      ]
     },
     "execution_count": 482,
     "metadata": {},
     "output_type": "execute_result"
    }
   ],
   "source": [
    "all_iterations = []\n",
    "\n",
    "for i in range(1000):\n",
    "    a, b = nested_af()\n",
    "    all_iterations.append(1/a)\n",
    "\n",
    "# but since we wanna sum up the percentages\n",
    "probs_dec = [i/100 for i in all_iterations]\n",
    "prob_sum = sum(probs_dec)\n",
    "\n",
    "prob_sum"
   ]
  },
  {
   "cell_type": "code",
   "execution_count": 483,
   "metadata": {},
   "outputs": [],
   "source": [
    "# Ok, I got it to converge to like ~0.5% Perhaps should check it with a more valid method??"
   ]
  },
  {
   "attachments": {},
   "cell_type": "markdown",
   "metadata": {},
   "source": [
    "ANYWAY. My final answer is. 0.5%."
   ]
  }
 ],
 "metadata": {
  "kernelspec": {
   "display_name": "Python 3",
   "language": "python",
   "name": "python3"
  },
  "language_info": {
   "codemirror_mode": {
    "name": "ipython",
    "version": 3
   },
   "file_extension": ".py",
   "mimetype": "text/x-python",
   "name": "python",
   "nbconvert_exporter": "python",
   "pygments_lexer": "ipython3",
   "version": "3.9.13"
  },
  "orig_nbformat": 4,
  "vscode": {
   "interpreter": {
    "hash": "aee8b7b246df8f9039afb4144a1f6fd8d2ca17a180786b69acc140d282b71a49"
   }
  }
 },
 "nbformat": 4,
 "nbformat_minor": 2
}
