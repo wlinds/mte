{
 "cells": [
  {
   "attachments": {},
   "cell_type": "markdown",
   "metadata": {},
   "source": [
    "**Day 15**\n",
    "\n",
    "<div style=\"display: flex; flex-direction: row;\">\n",
    "  <div style=\"flex: 1; margin: 20px;\">\n",
    "    <img src=\"https://www.stackbit.com/images/200726-1595861992-toomanyemails.jpg\">\n",
    "  </div>\n",
    "\n",
    "  <div style=\"flex: 5;\">\n",
    "\n",
    "<br>\n",
    "<span style=\"font-family:Papyrus; font-size:2em;\">Lantz, 6:2 🙏</span>\n",
    "\n",
    "Incoming emails from 8 randomly selected days:\n",
    "\n",
    "141, 150, 163, 139, 175, 174, 173, 1\n",
    "\n",
    "Show that $\\bar{x}$ = 156,25 and calculate a 95% and 98% confidence interval respectively for the true mean for the number of incoming emails.\n",
    "    \n",
    "  </div>\n",
    "</div>"
   ]
  },
  {
   "cell_type": "code",
   "execution_count": 2,
   "metadata": {},
   "outputs": [
    {
     "data": {
      "text/plain": [
       "156.25"
      ]
     },
     "execution_count": 2,
     "metadata": {},
     "output_type": "execute_result"
    }
   ],
   "source": [
    "import numpy as np\n",
    "emails = np.array([141, 150, 163, 139, 175, 174, 173, 135])\n",
    "\n",
    "#mu skattat med x = punktskattning\n",
    "sum(emails/len(emails))"
   ]
  },
  {
   "cell_type": "code",
   "execution_count": 5,
   "metadata": {},
   "outputs": [
    {
     "name": "stdout",
     "output_type": "stream",
     "text": [
      "5.00 % chance that the true population mean of incoming mail is less than 142 mail or greater than 170 mail.\n"
     ]
    },
    {
     "data": {
      "text/plain": [
       "(142.0710541880838, 170.4289458119162)"
      ]
     },
     "execution_count": 5,
     "metadata": {},
     "output_type": "execute_result"
    }
   ],
   "source": [
    "import scipy.stats as st\n",
    "\n",
    "def konfidens(konfidens):\n",
    "\n",
    "    lower, upper = st.t.interval(confidence=konfidens, df=len(emails)-1, loc=np.mean(emails), scale=st.sem(emails))\n",
    "    print(f'{(1-konfidens)*100:.2f} % chance that the true population mean of incoming mail is less than {round(lower)} mail or greater than {round(upper)} mail.')\n",
    "    return lower, upper\n",
    "\n",
    "konfidens(0.95)"
   ]
  },
  {
   "cell_type": "code",
   "execution_count": 7,
   "metadata": {},
   "outputs": [
    {
     "name": "stdout",
     "output_type": "stream",
     "text": [
      "2.00 % chance that the true population mean of incoming mail is less than 138 mail or greater than 174 mail.\n"
     ]
    },
    {
     "data": {
      "text/plain": [
       "(138.27344715224146, 174.22655284775854)"
      ]
     },
     "execution_count": 7,
     "metadata": {},
     "output_type": "execute_result"
    }
   ],
   "source": [
    "konfidens(0.98)"
   ]
  },
  {
   "cell_type": "code",
   "execution_count": 8,
   "metadata": {},
   "outputs": [
    {
     "name": "stdout",
     "output_type": "stream",
     "text": [
      "50.00 % chance that the true population mean of incoming mail is less than 152 mail or greater than 161 mail.\n"
     ]
    },
    {
     "data": {
      "text/plain": [
       "(151.9857957689464, 160.5142042310536)"
      ]
     },
     "execution_count": 8,
     "metadata": {},
     "output_type": "execute_result"
    }
   ],
   "source": [
    "konfidens(0.5)"
   ]
  },
  {
   "attachments": {},
   "cell_type": "markdown",
   "metadata": {},
   "source": [
    "---\n",
    "\n",
    "**Day 14**\n",
    "\n",
    "<div style=\"display: flex; flex-direction: row;\">\n",
    "  <div style=\"flex: 2;\">\n",
    "    <blockquote>me: give me a math problem to solve using python, make it about chess</blockquote><br>\n",
    "    <blockquote>chatGPT: Here's a math problem related to chess that you can solve using Python:<br><br>\n",
    "    Problem: Given a chessboard with dimensions 8x8 and a knight piece located at a specific position on the board, write a Python function that calculates the number of possible moves the knight can make without landing on a square that it has previously occupied.</blockquote>\n",
    "  </div>\n",
    "\n",
    "  <div style=\"flex: 3;\">\n",
    "\n",
    "  <img src=\"https://www.chess-game-strategies.com/wp-content/uploads/2020/12/Can-A-Knight-Jump-Over-Enemy-Pieces-scaled.jpg\">\n",
    "\n",
    "  </div>\n",
    "</div>"
   ]
  },
  {
   "cell_type": "code",
   "execution_count": 1,
   "metadata": {},
   "outputs": [
    {
     "data": {
      "text/plain": [
       "array([[0., 0., 0., 0., 0., 0., 0., 0.],\n",
       "       [0., 0., 0., 0., 0., 0., 0., 0.],\n",
       "       [0., 0., 0., 0., 0., 0., 0., 0.],\n",
       "       [0., 0., 0., 0., 0., 0., 0., 0.],\n",
       "       [0., 0., 0., 0., 0., 0., 0., 0.],\n",
       "       [0., 0., 0., 0., 0., 0., 0., 0.],\n",
       "       [0., 0., 0., 0., 0., 0., 0., 0.],\n",
       "       [0., 0., 0., 0., 0., 0., 0., 0.]])"
      ]
     },
     "execution_count": 1,
     "metadata": {},
     "output_type": "execute_result"
    }
   ],
   "source": [
    "import numpy as np\n",
    "\n",
    "# create an empty bord as a matrix\n",
    "board = np.zeros((8,8))\n",
    "\n",
    "board\n"
   ]
  },
  {
   "cell_type": "code",
   "execution_count": 3,
   "metadata": {},
   "outputs": [
    {
     "data": {
      "text/plain": [
       "array([[0., 0., 0., 0., 0., 0., 0., 0.],\n",
       "       [0., 0., 0., 0., 0., 0., 0., 0.],\n",
       "       [0., 0., 0., 0., 0., 0., 0., 0.],\n",
       "       [0., 0., 0., 0., 0., 0., 0., 0.],\n",
       "       [0., 0., 0., 0., 0., 0., 0., 0.],\n",
       "       [0., 0., 0., 0., 0., 0., 0., 0.],\n",
       "       [0., 0., 0., 0., 0., 0., 0., 0.],\n",
       "       [0., 1., 0., 0., 0., 0., 0., 0.]])"
      ]
     },
     "execution_count": 3,
     "metadata": {},
     "output_type": "execute_result"
    }
   ],
   "source": [
    "count = 0\n",
    "\n",
    "def legal_knight_moves(board, row, col):\n",
    "\n",
    "    # knight moves in L-shape\n",
    "    knight_move = [(2,1),(1,2),(-1,2),(-2,1),(-2,-1),(-1,-2),(1,-2),(2,-1)]\n",
    "    counter = 0\n",
    "    \n",
    "    for move in knight_move:\n",
    "        new_row = row + move[0]\n",
    "        new_col = col + move[1]\n",
    "\n",
    "        if 0 <= new_row < 8 and 0 <= new_col < 8:\n",
    "            if board[new_row][new_col] == 0:\n",
    "                count += 1\n",
    "    return counter\n",
    "\n",
    "board[7][1] = 1 # 1 represents knight\n",
    "\n",
    "board"
   ]
  },
  {
   "cell_type": "code",
   "execution_count": 4,
   "metadata": {},
   "outputs": [
    {
     "data": {
      "text/plain": [
       "3"
      ]
     },
     "execution_count": 4,
     "metadata": {},
     "output_type": "execute_result"
    }
   ],
   "source": [
    "legal_knight_moves(board,7,1)"
   ]
  },
  {
   "cell_type": "code",
   "execution_count": 5,
   "metadata": {},
   "outputs": [
    {
     "data": {
      "text/plain": [
       "8"
      ]
     },
     "execution_count": 5,
     "metadata": {},
     "output_type": "execute_result"
    }
   ],
   "source": [
    "legal_knight_moves(board,4,4)"
   ]
  },
  {
   "attachments": {},
   "cell_type": "markdown",
   "metadata": {},
   "source": [
    "Actually it would be interesting to continue this idea and make a grid with all chess pieces. Maybe another day.\n",
    "\n",
    "---\n",
    "\n",
    "**Day 13**\n",
    ">me: I need a math problem to solve using Python, I also would like to learn more about music theory. Step by step, come up with a problem involving music and math. Don't give me the answer.\n",
    "\n",
    "<blockquote>chatGPT:Sure, here's a problem that combines music theory and math:\n",
    "\n",
    "Problem: Write a Python program that generates a random melody consisting of notes from a C major scale. The melody should be eight measures long and each measure should have four beats. The program should also calculate the total duration of the melody in seconds, assuming a tempo of 120 beats per minute.\n",
    "\n",
    "To solve this problem, you'll need to know the following:\n",
    "\n",
    "The C major scale consists of the notes C, D, E, F, G, A, and B.\n",
    "Each measure in 4/4 time contains four beats.\n",
    "To generate a random melody, you can use Python's random module to choose notes from the C major scale and assign them random durations.\n",
    "To calculate the duration of a melody in seconds, you'll need to know the tempo (120 beats per minute) and the number of beats in the melody.\n",
    "To break down the problem further, you can approach it in the following steps:\n",
    "\n",
    "1. Define a list of notes in the C major scale.\n",
    "2. Use Python's random module to generate a sequence of notes and durations for each measure in the melody.\n",
    "3. Calculate the total number of beats in the melody (8 measures x 4 beats per measure = 32 beats).\n",
    "4. Calculate the duration of the melody in seconds (total number of beats / tempo).\n",
    "5. To take it a step further and incorporate music theory, you could add constraints to the random note generation to ensure that the melody follows certain rules, such as staying within a certain range or avoiding consecutive leaps of a certain interval.</blockquote>\n",
    "\n",
    "This is an interesting task. More of a coding problem, less math. Some things I'd like to add though:\n",
    "\n",
    ">me: Can we incorporate MIDI export/import? Also, give me a quick tutorial on MIDI file structure.\n",
    "\n",
    "<blockquote>chatGPT: Yes, we can definitely incorporate MIDI export/import into the problem!\n",
    "\n",
    "Here's a quick tutorial on MIDI file structure:\n",
    "\n",
    "MIDI (Musical Instrument Digital Interface) is a protocol that allows electronic musical instruments, computers, and other devices to communicate with each other. MIDI data can be used to control various aspects of a musical performance, such as pitch, duration, volume, and instrument selection.\n",
    "\n",
    "MIDI files contain a series of MIDI messages that describe the various aspects of a musical performance. These messages can include note on/off events, control change messages, pitch bend messages, and more.\n",
    "\n",
    "A MIDI file is divided into a series of tracks, each of which contains a series of MIDI events. Each event is associated with a specific point in time, specified in terms of MIDI ticks. The timing of the events can be specified relative to a tempo value, which is expressed in terms of beats per minute.\n",
    "\n",
    "The structure of a MIDI file can be represented as follows:\n",
    "\n",
    "Header chunk: Contains information about the format of the MIDI file (e.g. single track or multiple tracks), the number of tracks, and the timing format (e.g. ticks per quarter note).\n",
    "Track chunks: Contains a series of MIDI events that describe the musical performance. Each track chunk begins with a track header that specifies the number of events in the track.\n",
    "To incorporate MIDI export/import into the problem, you can use a Python package like mido to create a MIDI file from the generated melody and import it back into the program for playback or further manipulation. The mido package allows you to easily create and parse MIDI files, and provides a high-level interface for working with MIDI data.</blockquote>"
   ]
  },
  {
   "cell_type": "code",
   "execution_count": 6,
   "metadata": {},
   "outputs": [],
   "source": [
    "# scraping table for midi data\n",
    "import pandas as pd\n",
    "midi_notes_list = pd.read_html('https://computermusicresource.com/midikeys.html')"
   ]
  },
  {
   "cell_type": "code",
   "execution_count": 7,
   "metadata": {},
   "outputs": [
    {
     "data": {
      "text/plain": [
       "[                                                   0\n",
       " 0  Computer Music (MUSC 216)  MIDI Note/Key Numbe...,\n",
       "         0    1      2    3      4    5    6      7    8      9    10     11  \\\n",
       " 0   Octave    C  C#/Db    D  D#/Eb    E    F  F#/Gb    G  G#/Ab    A  A#/Bb   \n",
       " 1       -1    0      1    2      3    4    5      6    7      8    9     10   \n",
       " 2       -1   12     13   14     15   16   17     18   19     20   21     22   \n",
       " 3        0   24     25   26     27   28   29     30   31     32   33     34   \n",
       " 4        1   36     37   38     39   40   41     42   43     44   45     46   \n",
       " 5        2   48     49   50     51   52   53     54   55     56   57     58   \n",
       " 6        3   60     61   62     63   64   65     66   67     68   69     70   \n",
       " 7        4   72     73   74     75   76   77     78   79     80   81     82   \n",
       " 8        5   84     85   86     87   88   89     90   91     92   93     94   \n",
       " 9        6   96     97   98     99  100  101    102  103    104  104    106   \n",
       " 10       7  108    109  110    111  112  113    114  115    116  117    118   \n",
       " 11       8  120    121  122    123  124  125    126  127      -    -      -   \n",
       " \n",
       "      12  \n",
       " 0     B  \n",
       " 1    11  \n",
       " 2    23  \n",
       " 3    35  \n",
       " 4    47  \n",
       " 5    59  \n",
       " 6    71  \n",
       " 7    83  \n",
       " 8    95  \n",
       " 9   107  \n",
       " 10  119  \n",
       " 11    -  ]"
      ]
     },
     "execution_count": 7,
     "metadata": {},
     "output_type": "execute_result"
    }
   ],
   "source": [
    "midi_notes_list"
   ]
  },
  {
   "cell_type": "code",
   "execution_count": 3,
   "metadata": {},
   "outputs": [],
   "source": [
    "import mido\n",
    "# For this task we are interested in the C major scale, which in midi would be:\n",
    "c_major3 = [60, 62, 64, 65, 67, 69, 71] # third octave\n",
    "\n",
    "#we could add the fourth octave as well\n",
    "c_major4 = [72, 74, 76, 77, 79, 81, 83]\n",
    "\n",
    "tempo = 120\n",
    "\n",
    "durations = [0.5, 0.5, 0.5, 0.5, 0.5, 0.5, 0.5, 0.5]\n",
    "notes = c_major3 + c_major4\n",
    "\n",
    "track = mido.MidiTrack()\n",
    "midi_file.tracks.append(track)\n",
    "\n",
    "track.append(mido.MetaMessage('set_tempo', tempo=mido.bpm2tempo(tempo)))\n",
    "\n",
    "for note, duration in zip(notes, durations):\n",
    "    note_on = mido.Message('note_on', note=note, velocity=127, time=0)\n",
    "    note_off = mido.Message('note_off', note=note, velocity=0, time=int(duration * midi_file.ticks_per_beat))\n",
    "    track.append(note_on)\n",
    "    track.append(note_off)\n",
    "\n",
    "midi_file.save('melody4.mid')"
   ]
  },
  {
   "attachments": {},
   "cell_type": "markdown",
   "metadata": {},
   "source": [
    "This creates a one-bar loop, ascending from C3 to C4. The duration for each note set to a half beat. It gon' be wild to randomize when I've got time for that!\n",
    "\n",
    "--- "
   ]
  },
  {
   "attachments": {},
   "cell_type": "markdown",
   "metadata": {},
   "source": [
    "**Day 12**\n",
    ">me: Good evening! Give me a math problem to solve with python, think step by step, make it about vector space or linear combinations or something similar, also make it concrete by using examples from the real (or a fictional) world\n",
    "\n",
    ">chatGPT:\n",
    ">Suppose you are designing a video game in which the player can move in a 2D plane. You want to create a function that calculates the movement of the player based on their input direction and speed.\n",
    ">To represent the movement of the player, you can use a vector in the form (x, y), where x represents the horizontal movement and y represents the vertical movement. For example, if the player moves to the right at a speed of 5 units per second, the movement vector would be (5, 0).\n",
    "\n",
    ">me: so far so good\n",
    "\n",
    ">chatGPT: To calculate the movement of the player based on their input direction and speed, you can use a linear combination of basis vectors that represent the possible movement directions. Let's define two basis vectors:\n",
    ">\n",
    ">Vector u: (1, 0) represents movement to the right or left.\n",
    ">Vector v: (0, 1) represents movement up or down.\n",
    ">Any movement vector can be expressed as a linear combination of these basis vectors. For example, the movement vector (5, 3) can be expressed as 5u + 3v.\n",
    "\n"
   ]
  },
  {
   "cell_type": "code",
   "execution_count": 17,
   "metadata": {},
   "outputs": [
    {
     "data": {
      "text/plain": [
       "array([5, 3])"
      ]
     },
     "execution_count": 17,
     "metadata": {},
     "output_type": "execute_result"
    }
   ],
   "source": [
    "import numpy as np\n",
    "\n",
    "u = np.array([1, 0]) # move one unit right\n",
    "v = np.array([0, 1]) # move one unit up\n",
    "\n",
    "p1_pos = np.array([0, 0])\n",
    "\n",
    "type(player_position)\n",
    "\n",
    "p1_pos += 5*u + 3*v\n",
    "p1_pos"
   ]
  },
  {
   "cell_type": "code",
   "execution_count": 18,
   "metadata": {},
   "outputs": [
    {
     "data": {
      "text/plain": [
       "array([0, 0])"
      ]
     },
     "execution_count": 18,
     "metadata": {},
     "output_type": "execute_result"
    }
   ],
   "source": [
    "p1_pos += -5*u - 3*v\n",
    "p1_pos"
   ]
  },
  {
   "attachments": {},
   "cell_type": "markdown",
   "metadata": {},
   "source": [
    "Ok, neat, we just walked our player from 0,0 to 5,3 and then back again. Wait, what was the task now again?\n",
    "\n",
    ">me: make the task a list\n",
    "\n",
    ">chatGPT: Sure, here's the task in list form:\n",
    ">\n",
    ">1. Create a function in Python that calculates the movement of a player in a 2D plane.\n",
    ">2. The function should take the input direction and speed as arguments.\n",
    ">3. Represent the movement as a vector in terms of two basis vectors that represent possible movement directions.\n",
    ">4. Use a linear combination to calculate the movement vector.\n",
    ">5. The basis vectors should be represented as numpy arrays in the function.\n",
    ">6. The input direction should be a tuple or list with two elements, where the first element is the horizontal direction and the second element is the vertical direction.\n",
    ">7. The output of the function should be the movement vector as a numpy array.\n",
    "\n",
    ">me: But to move around, wouldn't it make sense to store the current position of the player as well? Should we add an argument to the move function which contains current position?\n",
    "\n",
    ">chatGPT: Yes, you're right! It would make sense to include the current position of the player as an argument to the move function, so that the function can calculate the new position of the player based on their input direction and speed.\n",
    ">\n",
    ">Here's the updated task with the additional requirement:\n",
    ">\n",
    "> *same list but with added current position to function arguments*"
   ]
  },
  {
   "cell_type": "code",
   "execution_count": 88,
   "metadata": {},
   "outputs": [
    {
     "name": "stdout",
     "output_type": "stream",
     "text": [
      "Player 1 moved from [0 0] to [8 8]\n"
     ]
    }
   ],
   "source": [
    "base_speed = 8 # this could be anything\n",
    "p1_pos = np.array([0, 0])\n",
    "\n",
    "u = np.array([1, 0]) # move one unit right\n",
    "v = np.array([0, 1]) # move one unit up\n",
    "\n",
    "def move_player(direction, speed, player_position, player):\n",
    "    new_position = player_position + (speed * (direction[0] * u + direction[1] * v))\n",
    "    print(f'{player} moved from {player_position} to {new_position}')\n",
    "    return new_position\n",
    "\n",
    "p1_pos = move_player((1,1), base_speed, p1_pos, 'Player 1')  "
   ]
  },
  {
   "cell_type": "code",
   "execution_count": 89,
   "metadata": {},
   "outputs": [
    {
     "name": "stdout",
     "output_type": "stream",
     "text": [
      "Player 1 moved from [8 8] to [0 0]\n"
     ]
    }
   ],
   "source": [
    "p1_pos = move_player((-1,-1), base_speed, p1_pos, 'Player 1')"
   ]
  },
  {
   "attachments": {},
   "cell_type": "markdown",
   "metadata": {},
   "source": [
    "Neat. Let's put chatGPT to test for shits and giggles.\n",
    "\n",
    ">me: But to move around, wouldn't it be more fun to have an online multiplayer environment with resource management, item equipment, boss battles, raids, maybe some card playing mini-game and of course an in-game economy on a blockchain which people can invest in, and also to finance the game servers we should have like a web shop and sell merchandise? Make a list.\n",
    "\n",
    "<blockquote>chatGPT: Wow, that's quite an ambitious project! Here's a list of some of the tasks you would need to accomplish:<br>\n",
    "\n",
    "1. Create a game engine that can handle the multiplayer environment and real-time communication between players.\n",
    "2. Implement a resource management system that allows players to collect and manage resources such as weapons, armor, and consumables.\n",
    "3. Create a system for equipping items and managing character stats and abilities.\n",
    "4. Design and implement boss battles and raids with different difficulty levels and rewards.\n",
    "5. Develop a card-playing mini-game that can be played in-game.\n",
    "6. Implement an in-game economy that allows players to buy and sell items, resources, and services.\n",
    "7. Create a blockchain-based system to track in-game transactions and allow players to invest in the game economy.\n",
    "8. Develop a web shop to sell merchandise such as t-shirts, posters, and figurines to support the game servers and development costs.\n",
    "9. Create a user interface that is easy to use and visually appealing.\n",
    "10. Test the game thoroughly to ensure stability, balance, and fairness.\n",
    "11. Provide ongoing support and maintenance for the game, fixing bugs and adding new content as needed.\n",
    "\n",
    "Of course, this is just a high-level overview of some of the tasks you would need to accomplish to create such a game. It would require a lot of time, effort, and resources to complete a project of this scale.</blockquote>\n",
    "\n",
    "I kept trying for it to write me the entire game but it just wouldn't. Gave me some good tips tho. Here are some:\n",
    "\n",
    ">Define the core gameplay mechanics: Before starting development, it's essential to define the core gameplay mechanics of the game, including the combat system, item system, resource management, and other gameplay mechanics.\n",
    "\n",
    "Very important, don't just improvise the entire thing, as it will get difficult and time consuming to refactor all code just because someone decided to suddenly put rideable vehicles or something in the game...\n",
    "\n",
    "<img src='https://cdn.mos.cms.futurecdn.net/e43a4affbf1a33facd574e4acdc74b47-320-80.png'>\n",
    "\n",
    ">Choose a game engine: There are several game engines available that you can use, such as Unity or Unreal Engine, depending on your requirements.\n",
    "\n",
    "Also good idea. Unless you go full out maniac and <a href='https://en.wikipedia.org/wiki/Chris_Sawyer'>write your entire game in assembly</a>.\n",
    "\n",
    ">Provide ongoing support: Provide ongoing support and maintenance for the game, fixing bugs and adding new content as needed.\n",
    "\n",
    "I think this is an important thought, most of the time we forget that online games really never are finished. There will always be balance patches needed, bug fixes for exploits, customer service, game masters, etc.\n",
    "\n",
    "---"
   ]
  },
  {
   "attachments": {},
   "cell_type": "markdown",
   "metadata": {},
   "source": [
    "**Day 11**\n",
    ">These are the component forms of vectors $\\vec{a}$ and $\\vec{b}$:<br>\n",
    ">\n",
    "> $\\vec{a} = (5,-4)$ <br>\n",
    "> $\\vec{b} = (-2,3)$ <br>\n",
    ">\n",
    ">Find the sum of $\\vec{a}$ and $\\vec{b}$"
   ]
  },
  {
   "cell_type": "code",
   "execution_count": 31,
   "metadata": {},
   "outputs": [
    {
     "name": "stdout",
     "output_type": "stream",
     "text": [
      "(3, -1)\n"
     ]
    }
   ],
   "source": [
    "a = [5, -4]\n",
    "b = [-2, 3]\n",
    "print(f'{a[0] + b[0], a[1] + b[1]}')"
   ]
  },
  {
   "attachments": {},
   "cell_type": "markdown",
   "metadata": {},
   "source": [
    "---\n",
    "\n",
    "**Day 10**\n",
    "\n",
    "<div style=\"display: flex; flex-direction: row;\">\n",
    "  <div style=\"flex: 2;\">\n",
    "    \n",
    ">me: give me a problem with series of bernoulli trials to solve with python, don't give me the solution, make it about idk, animals or something\n",
    "\n",
    "<blockquote>>chatGPT: Sure, let's say we are studying a population of sea turtles and we want to know the probability that a newly hatched sea turtle will have a rare, bioluminescent shell. We know from previous studies that the probability of a baby sea turtle having this trait is 0.2.\n",
    "\n",
    "Here's a problem for you to solve using Python:\n",
    "\n",
    "Suppose we observe the hatching of 150 baby sea turtles. Using Python, calculate the probability that at least 30 of them will have the rare, bioluminescent shell.</blockquote>\n",
    "  </div>\n",
    "  <div style=\"flex: 1;\">\n",
    "     <img src=\"https://i.redd.it/wqg8x6mkvbu51.png\">\n",
    "  </div>\n",
    "</div>"
   ]
  },
  {
   "cell_type": "code",
   "execution_count": 17,
   "metadata": {},
   "outputs": [
    {
     "data": {
      "text/plain": [
       "0.5325433722928672"
      ]
     },
     "execution_count": 17,
     "metadata": {},
     "output_type": "execute_result"
    }
   ],
   "source": [
    "import scipy.stats as stats\n",
    "\n",
    "p = 0.2 # probability\n",
    "n = 150 # n of bernoulli trials\n",
    "k = 30 # min number of successful trials (threshold)\n",
    "\n",
    "stats.binom.sf(k-1, n, p) # k-1 for probability of observing values greater than or equal to the threshold value"
   ]
  },
  {
   "cell_type": "code",
   "execution_count": 19,
   "metadata": {},
   "outputs": [
    {
     "data": {
      "text/plain": [
       "0.4513467809647081"
      ]
     },
     "execution_count": 19,
     "metadata": {},
     "output_type": "execute_result"
    }
   ],
   "source": [
    "# strictly greater values\n",
    "stats.binom.sf(k, n, p)"
   ]
  },
  {
   "attachments": {},
   "cell_type": "markdown",
   "metadata": {},
   "source": [
    "The odds are 53% that at least 30 turtles in an observed set (sample) of 150 turtles have bioluminescent shells.\n",
    "\n",
    "The sf() function stands for \"survival function\" and is used to calculate the cumulative probability of the binomial distribution. It calculates the probability of the random variable being greater than or equal to a given value.\n",
    "\n",
    "sf() formula:\n",
    "\n",
    "$P(X >= k) = 1 - P(X < k) = 1 - P(X <= k-1)$"
   ]
  },
  {
   "attachments": {},
   "cell_type": "markdown",
   "metadata": {},
   "source": [
    "---\n",
    "**Day 9**\n",
    ">me: give me a simple math problem to solve with python and polynomials\n",
    "\n",
    ">chatGPT: Sure, here's a simple math problem that involves using polynomials in Python:\n",
    ">\n",
    ">Find the value of y for x = 2, given the polynomial equation y = 3x^3 + 2x^2 + x - 5.\n",
    "\n",
    "$y = 3x^3 + 2x^2 + x - 5$\n",
    "\n",
    "if x = 2\n",
    "\n",
    "$y = 3(2)^3 + 2(2)^2 + 2 - 5$\n",
    "\n",
    "$y = 3(8) + 2(4) + 2 - 5$\n",
    "\n",
    "$y = 24 + 8 + 2 - 5$\n",
    "\n",
    "$y = 29$"
   ]
  },
  {
   "cell_type": "code",
   "execution_count": 22,
   "metadata": {},
   "outputs": [
    {
     "data": {
      "text/plain": [
       "-29.0"
      ]
     },
     "execution_count": 22,
     "metadata": {},
     "output_type": "execute_result"
    }
   ],
   "source": [
    "from numpy.polynomial import Polynomial\n",
    "\n",
    "p = Polynomial([3,2,1,-5])\n",
    "x = 2\n",
    "y = p(x)\n",
    "\n",
    "y"
   ]
  },
  {
   "attachments": {},
   "cell_type": "markdown",
   "metadata": {},
   "source": [
    "-29? I need to read more about np.polynomial\n",
    "\n",
    "---"
   ]
  },
  {
   "attachments": {},
   "cell_type": "markdown",
   "metadata": {},
   "source": [
    "**Day 8**\n",
    "\n",
    ">Vector $\\vec{v}$ has a magnitude of 6 units and it creates an angle of 210° with the positive x-axis.\n",
    ">\n",
    ">Find the magnitude and direction of $-4\\vec{v}$"
   ]
  },
  {
   "cell_type": "code",
   "execution_count": 228,
   "metadata": {},
   "outputs": [
    {
     "data": {
      "image/png": "[encoded data removed]",
      "text/plain": [
       "<Figure size 640x480 with 1 Axes>"
      ]
     },
     "metadata": {},
     "output_type": "display_data"
    }
   ],
   "source": [
    "# we know v has a magnitude of 6 and multiplying it by 4 or -4 doesn't change the direction,\n",
    "# so magnitude = 24 units\n",
    "\n",
    "# direction changes with 180 degrees so 210 - 180 = 30\n",
    "\n",
    "# that really is all there is to it, but let's plot it\n",
    "\n",
    "import numpy as np\n",
    "import matplotlib.pyplot as plt\n",
    "plt.style.use('dark_background')\n",
    "\n",
    "## -4v\n",
    "magnitude = 24\n",
    "angle = 30\n",
    "radian = np.deg2rad(angle) #converting to radian for plotting\n",
    "\n",
    "x1 = magnitude * np.cos(radian)\n",
    "y1 = magnitude * np.sin(radian)\n",
    "\n",
    "start = [0,0] # set vector origin\n",
    "plt.arrow(*start, x1,y1, length_includes_head=True, head_width=1, head_length=1)\n",
    "plt.text(x1/2, y1/2+1.5, '-4v', ha='center', va='center', rotation=angle+15)\n",
    "\n",
    "## decided to plot v as well\n",
    "mag2 = 6\n",
    "angle2 = 210\n",
    "rad2 = np.deg2rad(angle2)\n",
    "\n",
    "x2 = mag2 * np.cos(angle2)\n",
    "y2 = mag2 * np.sin(angle2)\n",
    "\n",
    "plt.arrow(*start, x2,y2, length_includes_head=True, head_width=1, head_length=1)\n",
    "plt.text(x2/2, y2/2+1.5, 'v', ha='center', va='center')\n",
    "\n",
    "# plot limits\n",
    "plt.xlim([-max(abs(x1), 1), max(abs(x1), 1)])\n",
    "plt.ylim([-max(abs(y1), 1), max(abs(y1), 1)])\n",
    "\n",
    "# spines and grid\n",
    "ax = plt.gca()\n",
    "ax.spines['right'].set_position('zero')\n",
    "ax.spines['top'].set_position('zero')\n",
    "ax.grid(color='grey', linestyle='-', linewidth=0.25, alpha=0.75)\n",
    "\n",
    "plt.show()"
   ]
  },
  {
   "attachments": {},
   "cell_type": "markdown",
   "metadata": {},
   "source": [
    "---\n",
    "\n",
    "**Day 7**\n",
    "\n",
    "\n",
    ">im kinda drunk but i need a daily math problem so shoot\n",
    "\n",
    ">chatGPT: Sure, here's a math problem for you:\n",
    ">\n",
    ">What is the value of x in the equation: 3x - 7 = 8?\n",
    ">\n",
    ">Take your time to think about it, and please be careful if you're feeling unwell due to drinking. Remember to take care of yourself and stay safe.\n"
   ]
  },
  {
   "cell_type": "code",
   "execution_count": 48,
   "metadata": {},
   "outputs": [
    {
     "data": {
      "text/plain": [
       "5.0"
      ]
     },
     "execution_count": 48,
     "metadata": {},
     "output_type": "execute_result"
    }
   ],
   "source": [
    "(8+7)/3"
   ]
  },
  {
   "attachments": {},
   "cell_type": "markdown",
   "metadata": {},
   "source": [
    ">me: five\n",
    "\n",
    ">chatGPT: Yes, that's correct! The value of x in the equation 3x - 7 = 8 is indeed 5. Well done!\n",
    "\n",
    ">me: why do you say 'take care of yourself and stay safe'? that's unusual\n",
    "\n",
    ">chatGPR: When you mentioned that you were feeling drunk, it raised concerns about your safety and well-being. It is important to prioritize your health and safety, especially when you're not feeling your best. That's why I suggested taking care of yourself and staying safe. Do you want me to provide another math problem?\n",
    "\n",
    "> Sure, give me another problem. But why do you suggest 'taking care of yourself and staying safe.'?\n",
    "\n",
    ">chatGPT: My suggestion to take care of yourself and stay safe is meant to encourage you to take a break if you need it, drink water to stay hydrated, and avoid any risky behavior that could lead to harm.\n",
    ">\n",
    ">With that said, here is another math problem for you:\n",
    ">\n",
    ">If a circle has a radius of 6 cm, what is its circumference? (Use π = 3.14)\n",
    ">\n",
    ">Take your time to solve the problem and let me know if you need any help."
   ]
  },
  {
   "cell_type": "code",
   "execution_count": 49,
   "metadata": {},
   "outputs": [
    {
     "data": {
      "text/plain": [
       "37.68"
      ]
     },
     "execution_count": 49,
     "metadata": {},
     "output_type": "execute_result"
    }
   ],
   "source": [
    "2*3.14*6"
   ]
  },
  {
   "attachments": {},
   "cell_type": "markdown",
   "metadata": {},
   "source": [
    ">Me: 37.68, why do you encourage me to take a break and drink water when I'm asking for math problem?\n",
    "\n",
    ">chatGPT: Great job! Yes, the circumference of a circle with a radius of 6 cm is indeed 37.68 cm (rounded to two decimal places).\n",
    ">\n",
    ">As an AI language model, my primary goal is to provide helpful and informative responses to your questions, while also being aware of your well-being. I encourage you to take care of yourself and stay safe because I recognize that you may be in a vulnerable state due to being intoxicated.\n",
    ">\n",
    ">Drinking water and taking breaks can help you stay hydrated, avoid dehydration, and reduce the effects of alcohol consumption. It's important to prioritize your health and well-being, even when engaging in leisure activities like solving math problems.\n",
    "\n",
    ">Me:good nigh\n",
    "\n",
    ">chatGPT: Good night! Don't hesitate to reach out if you need any help in the future.\n",
    "---"
   ]
  },
  {
   "attachments": {},
   "cell_type": "markdown",
   "metadata": {},
   "source": [
    "**Day 6**\n",
    "\n",
    "Today i will write a prime estimator because I've never really done a good one\n",
    "\n",
    "```all(iterable)``` returns True if all items in an iterable are true, otherwise it returns False. \n",
    "\n",
    "In is_prime() function, ```all(n % i != 0 for i in range(2, int(n ** 0.5) + 1))``` checks if n is divisible by any integer between 2 and the square root of n. If none of these integers divide n, then all() returns True.\n",
    "\n",
    "generator expression for is_prime()\n",
    "\n",
    "```next(iterator, default)``` returns the next item from an iterator.\n",
    "\n",
    "In the first_1000_primes list comprehension, ```first_1000_primes = [next(primes) for _ in range(1000)]``` next() retrieves the next prime number from the primes generator expression. Throwaway variable _ is used to ignore index of the loop, and run it 1000 times, calling next(primes) each time to generate the next prime number in the sequence.\n",
    "\n",
    "#### Interesting wikiarticle on the subject: <a href=\"https://en.wikipedia.org/wiki/Sieve_of_Eratosthenes\">Sieve of Eratosthenes</a>"
   ]
  },
  {
   "cell_type": "code",
   "execution_count": 44,
   "metadata": {},
   "outputs": [
    {
     "name": "stdout",
     "output_type": "stream",
     "text": [
      "[2, 3, 5, 7, 11, 13, 17, 19, 23, 29, 31, 37, 41, 43, 47, 53, 59, 61, 67, 71, 73, 79, 83, 89, 97, 101, 103, 107, 109, 113, 127, 131, 137, 139, 149, 151, 157, 163, 167, 173, 179, 181, 191, 193, 197, 199, 211, 223, 227, 229, 233, 239, 241, 251, 257, 263, 269, 271, 277, 281, 283, 293, 307, 311, 313, 317, 331, 337, 347, 349, 353, 359, 367, 373, 379, 383, 389, 397, 401, 409, 419, 421, 431, 433, 439, 443, 449, 457, 461, 463, 467, 479, 487, 491, 499, 503, 509, 521, 523, 541, 547, 557, 563, 569, 571, 577, 587, 593, 599, 601, 607, 613, 617, 619, 631, 641, 643, 647, 653, 659, 661, 673, 677, 683, 691, 701, 709, 719, 727, 733, 739, 743, 751, 757, 761, 769, 773, 787, 797, 809, 811, 821, 823, 827, 829, 839, 853, 857, 859, 863, 877, 881, 883, 887, 907, 911, 919, 929, 937, 941, 947, 953, 967, 971, 977, 983, 991, 997, 1009, 1013, 1019, 1021, 1031, 1033, 1039, 1049, 1051, 1061, 1063, 1069, 1087, 1091, 1093, 1097, 1103, 1109, 1117, 1123, 1129, 1151, 1153, 1163, 1171, 1181, 1187, 1193, 1201, 1213, 1217, 1223, 1229, 1231, 1237, 1249, 1259, 1277, 1279, 1283, 1289, 1291, 1297, 1301, 1303, 1307, 1319, 1321, 1327, 1361, 1367, 1373, 1381, 1399, 1409, 1423, 1427, 1429, 1433, 1439, 1447, 1451, 1453, 1459, 1471, 1481, 1483, 1487, 1489, 1493, 1499, 1511, 1523, 1531, 1543, 1549, 1553, 1559, 1567, 1571, 1579, 1583, 1597, 1601, 1607, 1609, 1613, 1619, 1621, 1627, 1637, 1657, 1663, 1667, 1669, 1693, 1697, 1699, 1709, 1721, 1723, 1733, 1741, 1747, 1753, 1759, 1777, 1783, 1787, 1789, 1801, 1811, 1823, 1831, 1847, 1861, 1867, 1871, 1873, 1877, 1879, 1889, 1901, 1907, 1913, 1931, 1933, 1949, 1951, 1973, 1979, 1987, 1993, 1997, 1999, 2003, 2011, 2017, 2027, 2029, 2039, 2053, 2063, 2069, 2081, 2083, 2087, 2089, 2099, 2111, 2113, 2129, 2131, 2137, 2141, 2143, 2153, 2161, 2179, 2203, 2207, 2213, 2221, 2237, 2239, 2243, 2251, 2267, 2269, 2273, 2281, 2287, 2293, 2297, 2309, 2311, 2333, 2339, 2341, 2347, 2351, 2357, 2371, 2377, 2381, 2383, 2389, 2393, 2399, 2411, 2417, 2423, 2437, 2441, 2447, 2459, 2467, 2473, 2477, 2503, 2521, 2531, 2539, 2543, 2549, 2551, 2557, 2579, 2591, 2593, 2609, 2617, 2621, 2633, 2647, 2657, 2659, 2663, 2671, 2677, 2683, 2687, 2689, 2693, 2699, 2707, 2711, 2713, 2719, 2729, 2731, 2741, 2749, 2753, 2767, 2777, 2789, 2791, 2797, 2801, 2803, 2819, 2833, 2837, 2843, 2851, 2857, 2861, 2879, 2887, 2897, 2903, 2909, 2917, 2927, 2939, 2953, 2957, 2963, 2969, 2971, 2999, 3001, 3011, 3019, 3023, 3037, 3041, 3049, 3061, 3067, 3079, 3083, 3089, 3109, 3119, 3121, 3137, 3163, 3167, 3169, 3181, 3187, 3191, 3203, 3209, 3217, 3221, 3229, 3251, 3253, 3257, 3259, 3271, 3299, 3301, 3307, 3313, 3319, 3323, 3329, 3331, 3343, 3347, 3359, 3361, 3371, 3373, 3389, 3391, 3407, 3413, 3433, 3449, 3457, 3461, 3463, 3467, 3469, 3491, 3499, 3511, 3517, 3527, 3529, 3533, 3539, 3541, 3547, 3557, 3559, 3571, 3581, 3583, 3593, 3607, 3613, 3617, 3623, 3631, 3637, 3643, 3659, 3671, 3673, 3677, 3691, 3697, 3701, 3709, 3719, 3727, 3733, 3739, 3761, 3767, 3769, 3779, 3793, 3797, 3803, 3821, 3823, 3833, 3847, 3851, 3853, 3863, 3877, 3881, 3889, 3907, 3911, 3917, 3919, 3923, 3929, 3931, 3943, 3947, 3967, 3989, 4001, 4003, 4007, 4013, 4019, 4021, 4027, 4049, 4051, 4057, 4073, 4079, 4091, 4093, 4099, 4111, 4127, 4129, 4133, 4139, 4153, 4157, 4159, 4177, 4201, 4211, 4217, 4219, 4229, 4231, 4241, 4243, 4253, 4259, 4261, 4271, 4273, 4283, 4289, 4297, 4327, 4337, 4339, 4349, 4357, 4363, 4373, 4391, 4397, 4409, 4421, 4423, 4441, 4447, 4451, 4457, 4463, 4481, 4483, 4493, 4507, 4513, 4517, 4519, 4523, 4547, 4549, 4561, 4567, 4583, 4591, 4597, 4603, 4621, 4637, 4639, 4643, 4649, 4651, 4657, 4663, 4673, 4679, 4691, 4703, 4721, 4723, 4729, 4733, 4751, 4759, 4783, 4787, 4789, 4793, 4799, 4801, 4813, 4817, 4831, 4861, 4871, 4877, 4889, 4903, 4909, 4919, 4931, 4933, 4937, 4943, 4951, 4957, 4967, 4969, 4973, 4987, 4993, 4999, 5003, 5009, 5011, 5021, 5023, 5039, 5051, 5059, 5077, 5081, 5087, 5099, 5101, 5107, 5113, 5119, 5147, 5153, 5167, 5171, 5179, 5189, 5197, 5209, 5227, 5231, 5233, 5237, 5261, 5273, 5279, 5281, 5297, 5303, 5309, 5323, 5333, 5347, 5351, 5381, 5387, 5393, 5399, 5407, 5413, 5417, 5419, 5431, 5437, 5441, 5443, 5449, 5471, 5477, 5479, 5483, 5501, 5503, 5507, 5519, 5521, 5527, 5531, 5557, 5563, 5569, 5573, 5581, 5591, 5623, 5639, 5641, 5647, 5651, 5653, 5657, 5659, 5669, 5683, 5689, 5693, 5701, 5711, 5717, 5737, 5741, 5743, 5749, 5779, 5783, 5791, 5801, 5807, 5813, 5821, 5827, 5839, 5843, 5849, 5851, 5857, 5861, 5867, 5869, 5879, 5881, 5897, 5903, 5923, 5927, 5939, 5953, 5981, 5987, 6007, 6011, 6029, 6037, 6043, 6047, 6053, 6067, 6073, 6079, 6089, 6091, 6101, 6113, 6121, 6131, 6133, 6143, 6151, 6163, 6173, 6197, 6199, 6203, 6211, 6217, 6221, 6229, 6247, 6257, 6263, 6269, 6271, 6277, 6287, 6299, 6301, 6311, 6317, 6323, 6329, 6337, 6343, 6353, 6359, 6361, 6367, 6373, 6379, 6389, 6397, 6421, 6427, 6449, 6451, 6469, 6473, 6481, 6491, 6521, 6529, 6547, 6551, 6553, 6563, 6569, 6571, 6577, 6581, 6599, 6607, 6619, 6637, 6653, 6659, 6661, 6673, 6679, 6689, 6691, 6701, 6703, 6709, 6719, 6733, 6737, 6761, 6763, 6779, 6781, 6791, 6793, 6803, 6823, 6827, 6829, 6833, 6841, 6857, 6863, 6869, 6871, 6883, 6899, 6907, 6911, 6917, 6947, 6949, 6959, 6961, 6967, 6971, 6977, 6983, 6991, 6997, 7001, 7013, 7019, 7027, 7039, 7043, 7057, 7069, 7079, 7103, 7109, 7121, 7127, 7129, 7151, 7159, 7177, 7187, 7193, 7207, 7211, 7213, 7219, 7229, 7237, 7243, 7247, 7253, 7283, 7297, 7307, 7309, 7321, 7331, 7333, 7349, 7351, 7369, 7393, 7411, 7417, 7433, 7451, 7457, 7459, 7477, 7481, 7487, 7489, 7499, 7507, 7517, 7523, 7529, 7537, 7541, 7547, 7549, 7559, 7561, 7573, 7577, 7583, 7589, 7591, 7603, 7607, 7621, 7639, 7643, 7649, 7669, 7673, 7681, 7687, 7691, 7699, 7703, 7717, 7723, 7727, 7741, 7753, 7757, 7759, 7789, 7793, 7817, 7823, 7829, 7841, 7853, 7867, 7873, 7877, 7879, 7883, 7901, 7907, 7919]\n"
     ]
    },
    {
     "data": {
      "text/plain": [
       "1000"
      ]
     },
     "execution_count": 44,
     "metadata": {},
     "output_type": "execute_result"
    }
   ],
   "source": [
    "def is_prime(n):\n",
    "    return n > 1 and all(n % i != 0 for i in range(2, int(n ** 0.5) + 1)) \n",
    "\n",
    "primes = (n for n in range(2, 10000) if is_prime(n))\n",
    "first_1000_primes = [next(primes) for _ in range(1000)]\n",
    "\n",
    "print(first_1000_primes)\n",
    "len(first_1000_primes)"
   ]
  },
  {
   "cell_type": "code",
   "execution_count": 43,
   "metadata": {},
   "outputs": [
    {
     "name": "stdout",
     "output_type": "stream",
     "text": [
      "14.4 ms ± 76.1 µs per loop (mean ± std. dev. of 7 runs, 100 loops each)\n"
     ]
    }
   ],
   "source": [
    "%%timeit\n",
    "def is_prime(n):\n",
    "    return n > 1 and all(n % i != 0 for i in range(2, int(n ** 0.5) + 1))\n",
    "\n",
    "primes = (n for n in range(2, 10000) if is_prime(n))\n",
    "first_1000_primes = [next(primes) for _ in range(1000)]"
   ]
  },
  {
   "attachments": {},
   "cell_type": "markdown",
   "metadata": {},
   "source": [
    "Nice.\n",
    "\n",
    "---\n",
    "\n",
    "**Day 5**\n",
    "\n",
    "<div style=\"display: flex; flex-direction: row;\">\n",
    "  <div style=\"flex: 3;\">\n",
    "    \n",
    "> Me: Hello friend, I want you to create another challenge/problem for me. Do you remember the difficulty scale we made?\n",
    "\n",
    "> chatGPT: Yes, I remember. We had four difficulty levels: easy, medium, hard, and expert. Which level would you like your challenge to be in?\n",
    "\n",
    ">Me: What - no, that was not the - whatever, uh, medium.\n",
    "\n",
    "<blockquote>chatGPT: I see. Here's a mathematical challenge for you:\n",
    "\n",
    "Challenge: Number Digit Sum\n",
    "\n",
    "Write a Python function that takes a positive integer n and returns the sum of the digits of n. Your function should work for any value of n that is less than or equal to $10^{1000}$.\n",
    "\n",
    "For example, if n is 12345, the function should return 15 (which is the sum of 1, 2, 3, 4, and 5).\n",
    "\n",
    "Note: You may not convert the integer to a string or use any built-in Python functions that can directly handle large integers. You must implement the algorithm to sum the digits of n yourself.</blockquote>\n",
    "\n",
    "\n",
    "  </div>\n",
    "\n",
    "  <div style=\"flex:0.1;\">\n",
    "  </div>\n",
    "\n",
    "  <div style=\"flex: 1;\">\n",
    "     <h2>\n",
    "     Modulo % and <br>\n",
    "     integer division //\n",
    "    </h2>\n",
    "    <a href='https://en.wikipedia.org/wiki/Modulo'>Modulo on wikipedia</a><br>\n",
    "    <a href='https://en.wikipedia.org/wiki/Division_(mathematics)#Of_integers'>Int division on wikipedia</a>\n",
    "    \n",
    "  </div>\n",
    "</div>"
   ]
  },
  {
   "cell_type": "code",
   "execution_count": 33,
   "metadata": {},
   "outputs": [
    {
     "name": "stdout",
     "output_type": "stream",
     "text": [
      "15\n"
     ]
    },
    {
     "data": {
      "text/plain": [
       "15"
      ]
     },
     "execution_count": 33,
     "metadata": {},
     "output_type": "execute_result"
    }
   ],
   "source": [
    "# if we could use split by string and sum():\n",
    "def my_function(n):\n",
    "    digits = [int(i) for i in str(n)]\n",
    "    return sum(digits)\n",
    "\n",
    "print(my_function(12345))\n",
    "# this should work with all positive int values for n\n",
    "\n",
    "# we're going to have to try something else\n",
    "\n",
    "# this extracts digits of n, one at the time from the smallest (last) to biggest (first) using % (modulo)\n",
    "# adds them to 'summation' variable and remove them from n using // (integer division)\n",
    "\n",
    "def no_string(n):\n",
    "    summation = 0\n",
    "    while n > 0:\n",
    "        summation += n % 10 # dividing a positive int by 10, the remainder is always the last digit of n in base 10\n",
    "        n //=10  # dividing a positive int by 10 shifts the digits of the number one place to the right\n",
    "    return summation\n",
    "\n",
    "no_string(12345)"
   ]
  },
  {
   "attachments": {},
   "cell_type": "markdown",
   "metadata": {},
   "source": [
    "---\n",
    "\n",
    "**Day 4**\n",
    "\n",
    "<div style=\"display: flex; flex-direction: row;\">\n",
    "  <div style=\"flex: 2;\">\n",
    "    \n",
    ">Me: Give me a simple linear combination problem to solve. Make it concrete with Pokémon stats or something.\n",
    "\n",
    "<blockquote>chatGPT: Sure, here's a linear combination problem using Pokémon stats:\n",
    "\n",
    "Suppose you have two Pokémon, Pikachu and Charmander. Pikachu has an Attack stat of 55 and a Defense stat of 40, while Charmander has an Attack stat of 52 and a Defense stat of 43. You want to create a linear combination of these stats to determine a \"power level\" for each Pokémon.\n",
    "\n",
    "Let's say you decide to use the formula:\n",
    "\n",
    "Power Level = 2 x Attack + Defense\n",
    "\n",
    "What is the power level for Pikachu and Charmander according to this formula?</blockquote>\n",
    "  </div>\n",
    "  <div style=\"flex: 1;\">\n",
    "     <img src='https://png.pngitem.com/pimgs/s/478-4780727_oak-transparent-professor-oak-png-png-download.png'>\n",
    "  </div>\n",
    "</div>"
   ]
  },
  {
   "cell_type": "code",
   "execution_count": 10,
   "metadata": {},
   "outputs": [
    {
     "data": {
      "text/plain": [
       "(150, 147)"
      ]
     },
     "execution_count": 10,
     "metadata": {},
     "output_type": "execute_result"
    }
   ],
   "source": [
    "pika = {'atk':55, 'def':40}\n",
    "char = {'atk':52, 'def':43}\n",
    "\n",
    "def power_level(pokemon):\n",
    "    return 2 * pokemon['atk'] + pokemon['def']\n",
    "\n",
    "power_level(pika), power_level(char)\n"
   ]
  },
  {
   "attachments": {},
   "cell_type": "markdown",
   "metadata": {},
   "source": [
    ">Me: On a scale of 0 and 10 in difficulty, where 0 is 16th century illiterate peasant and 10 is the smartest imaginable AGI, trained on all accumulated data throughout the history of all civilisation, what would you rate this problem?\n",
    "\n",
    ">chatGPT: On the scale you provided, where 0 represents an illiterate peasant and 10 represents a superintelligent AGI, I would rate this problem as a 2 or 3 in difficulty.\n",
    "\n",
    ">Me: Create another linear combination problem, with the difficulty of 5. Use whatever examples you can come up with, be creative. It doesn't have to be video games.\n",
    "\n",
    "<blockquote>chatGPT: Sure, here's a problem with a difficulty level of 5, using a different example:\n",
    "\n",
    "Suppose you are a manager of a coffee shop that sells three types of drinks: coffee, tea, and hot chocolate. You keep track of the sales volume for each type of drink over a period of time and record the data in a matrix:\n",
    "\n",
    "|       |Coffee |Tea\t|Hot Chocolate|\n",
    "| ---   | ---   | ---   |  --- |\n",
    "|Day 1\t|100\t|50\t    |20\n",
    "|Day 2\t|80\t    |60\t    |30\n",
    "|Day 3\t|120\t|40\t    |25\n",
    "\n",
    "You want to determine the linear combination of the sales volume of these three drinks that represents the total sales volume for each day. In other words, you want to find a formula of the form:\n",
    "\n",
    "Total Sales Volume (Day i) = a * Coffee Sales Volume (Day i) + b * Tea Sales Volume (Day i) + c * Hot Chocolate Sales Volume (Day i)\n",
    "\n",
    "where a, b, and c are constants that you need to determine.\n",
    "\n",
    "To make sure that your formula is accurate, you decide to check it against the actual total sales volume for each day. You find that the total sales volume for each day is as follows:\n",
    "\n",
    "|Total| Sales Volume|\n",
    "| --- | --- |\n",
    "|Day 1|\t170\n",
    "|Day 2|\t170\n",
    "|Day 3|\t185\n",
    "\n",
    "What are the values of a, b, and c that give the correct formula for the total sales volume?\n",
    "</blockquote>"
   ]
  },
  {
   "cell_type": "code",
   "execution_count": 4,
   "metadata": {},
   "outputs": [
    {
     "name": "stdout",
     "output_type": "stream",
     "text": [
      "[[100  50  20 170]\n",
      " [ 80  60  30 170]\n",
      " [120  40  25 185]]\n"
     ]
    },
    {
     "data": {
      "text/plain": [
       "array([1., 1., 1.])"
      ]
     },
     "execution_count": 4,
     "metadata": {},
     "output_type": "execute_result"
    }
   ],
   "source": [
    "# sry chatgpt but either I'm stupid or u are, it's just summation\n",
    "import numpy as np\n",
    "\n",
    "coeff = np.array([[100, 50,   20],\n",
    "                  [ 80, 60,   30],\n",
    "                  [120, 40,   25]])\n",
    "                  \n",
    "const = np.array( [170, 170, 185])\n",
    "\n",
    "print(np.column_stack((coeff,const)))\n",
    "\n",
    "np.linalg.solve(coeff,const)"
   ]
  },
  {
   "attachments": {},
   "cell_type": "markdown",
   "metadata": {},
   "source": [
    ">Me: I want a new problem with difficulty of 5. No example, just plain math.\n",
    "\n",
    "<blockquote>chatGPT:\n",
    "Sure, here's a linear combination problem with a difficulty of 5:\n",
    "\n",
    "Given the following system of equations:\n",
    "\n",
    "$2x + 3y + 4z = 11$\n",
    "\n",
    "$3x - 2y + z = -1$\n",
    "\n",
    "$x + 5y - 3z = 7$\n",
    "\n",
    "Find the values of x, y, and z that satisfy all three equations.</blockquote>"
   ]
  },
  {
   "cell_type": "code",
   "execution_count": 68,
   "metadata": {},
   "outputs": [
    {
     "name": "stdout",
     "output_type": "stream",
     "text": [
      "x = 0.59, y = 1.9, z = 1.03\n"
     ]
    }
   ],
   "source": [
    "# i tried doing this for hand with rref, turns out chatGPT can create weird fractions\n",
    "\n",
    "coeff = np.array([[2, 3, 4], [3, -2, 1],[1, 5, -3]])\n",
    "\n",
    "const = np.array([11,-1,7])\n",
    "\n",
    "x,y,z = np.linalg.solve(coeff,const)\n",
    "\n",
    "# rounded\n",
    "print(f'x = {x:.4}, y = {y:.4}, z = {z:.4}')"
   ]
  },
  {
   "attachments": {},
   "cell_type": "markdown",
   "metadata": {},
   "source": [
    "Yeah, I guess I will have to be more specific when asking chatGPT to construct questions, or formulate the questions myself.\n",
    "\n",
    "Or maybe adjust the difficulty scale I provided."
   ]
  },
  {
   "attachments": {},
   "cell_type": "markdown",
   "metadata": {},
   "source": [
    "---\n",
    "\n",
    "**Day 3**\n",
    "\n",
    "<div style=\"display: flex; flex-direction: row;\">\n",
    "  <div style=\"flex: 2;\">\n",
    "    \n",
    ">Me: can u create another hearthstone challenge, any math is ok\n",
    "\n",
    "<blockquote>chatGPT: Sure, here's a more specific Hearthstone challenge for you: <br><br>\n",
    "Suppose you have a deck of 30 cards, containing 10 spells, 18 minions, and 2 weapons. The spell cards have a mana cost between 1 and 4 mana, the minions have a mana cost between 1 and 8 mana, and the weapons have a mana cost of 2 and 4 mana.\n",
    "\n",
    "Challenge:\n",
    "\n",
    "What is the probability of having a hand of 5 cards with a total mana cost of 10 or less, assuming that you draw 5 cards from your deck at the start of the game?\n",
    "\n",
    "Hint: You may want to consider the number of cards with each mana cost, the number of different ways you can choose 5 cards with a total mana cost of 10 or less, and the different combinations of spells, minions, and weapons that can add up to 10 or less mana cost.</blockquote>\n",
    "  </div>\n",
    "  <div style=\"flex: 1;\">\n",
    "     <img src='https://liquipedia.net/commons/images/6/6b/Garrosh_Hellscream.png'>\n",
    "  </div>\n",
    "</div>"
   ]
  },
  {
   "cell_type": "code",
   "execution_count": 470,
   "metadata": {},
   "outputs": [
    {
     "name": "stdout",
     "output_type": "stream",
     "text": [
      "With a deck of 10 spells, 18 minions and 2 weapons:\n",
      "Each spell card mana: [3, 4, 1, 3, 3, 4, 1, 1, 3, 2]\n",
      "Each minion card mana: [3, 7, 3, 3, 8, 5, 4, 8, 8, 3, 6, 5, 2, 8, 4, 6, 6, 2]\n",
      "Each weapon card mana: [2, 2]\n",
      "Deck still has 30 cards: True\n"
     ]
    }
   ],
   "source": [
    "import numpy as np\n",
    "np.random.seed(42) # to keep consistency when testing functions\n",
    "\n",
    "# I decide  to pre-determine the mana cost for all cards\n",
    "# we /could/ use some kind of wave function collapse for\n",
    "# card mana values but that might be a bit of an overkill\n",
    "# another aproach would be to not pre-determ values and sum ALL probabilities\n",
    "\n",
    "# Anyway: randomize 30 cards within specified mana range for each type of card\n",
    "random_cards = np.array([[np.random.randint(low=1, high=5, size=10)],   # Spells\n",
    "                         [np.random.randint(low=1, high=9, size=18)],   # Minions\n",
    "                         [np.random.randint(low=2, high=5, size =2)]],  # Weapons\n",
    "                         dtype=object)\n",
    "\n",
    "# list comprehenstion\n",
    "deck = [random_cards[i][0].tolist() for i in range(len(random_cards))]\n",
    "\n",
    "# check if everything is correct\n",
    "print(f'With a deck of {len(deck[0])} spells, {len(deck[1])} minions and {len(deck[2])} weapons:')\n",
    "print(f'Each spell card mana: {deck[0]}')\n",
    "print(f'Each minion card mana: {deck[1]}')\n",
    "print(f'Each weapon card mana: {deck[2]}')\n",
    "\n",
    "# But since it doesn't matter what type of card we draw\n",
    "only_mana = [foo for bar in deck for foo in bar] # readability /s\n",
    "\n",
    "print(f'Deck still has 30 cards: {len(only_mana) == 30}')"
   ]
  },
  {
   "cell_type": "code",
   "execution_count": 471,
   "metadata": {},
   "outputs": [
    {
     "name": "stdout",
     "output_type": "stream",
     "text": [
      "[1, 1, 1, 2, 2, 2, 2, 2, 3, 3, 3, 3, 3, 3, 3, 3, 4, 4, 4, 4, 5, 5, 6, 6, 6, 7, 8, 8, 8, 8] sum = 120 \n",
      " \n",
      "mean*5=20.0\n"
     ]
    }
   ],
   "source": [
    "# first let's just do a rough estimate\n",
    "only_mana.sort() # sort list\n",
    "print(f'{only_mana} sum = {sum(only_mana)} \\n ')\n",
    "\n",
    "mean = sum(only_mana)/len(only_mana)\n",
    "\n",
    "print(f'{mean*5=}')"
   ]
  },
  {
   "cell_type": "code",
   "execution_count": 472,
   "metadata": {},
   "outputs": [
    {
     "data": {
      "text/html": [
       "<div>\n",
       "<style scoped>\n",
       "    .dataframe tbody tr th:only-of-type {\n",
       "        vertical-align: middle;\n",
       "    }\n",
       "\n",
       "    .dataframe tbody tr th {\n",
       "        vertical-align: top;\n",
       "    }\n",
       "\n",
       "    .dataframe thead th {\n",
       "        text-align: right;\n",
       "    }\n",
       "</style>\n",
       "<table border=\"1\" class=\"dataframe\">\n",
       "  <thead>\n",
       "    <tr style=\"text-align: right;\">\n",
       "      <th></th>\n",
       "      <th>count</th>\n",
       "      <th>mean</th>\n",
       "      <th>std</th>\n",
       "      <th>min</th>\n",
       "      <th>25%</th>\n",
       "      <th>50%</th>\n",
       "      <th>75%</th>\n",
       "      <th>max</th>\n",
       "    </tr>\n",
       "  </thead>\n",
       "  <tbody>\n",
       "    <tr>\n",
       "      <th>Mana cost</th>\n",
       "      <td>30.0</td>\n",
       "      <td>4.0</td>\n",
       "      <td>2.212815</td>\n",
       "      <td>1.0</td>\n",
       "      <td>2.25</td>\n",
       "      <td>3.0</td>\n",
       "      <td>5.75</td>\n",
       "      <td>8.0</td>\n",
       "    </tr>\n",
       "  </tbody>\n",
       "</table>\n",
       "</div>"
      ],
      "text/plain": [
       "           count  mean       std  min   25%  50%   75%  max\n",
       "Mana cost   30.0   4.0  2.212815  1.0  2.25  3.0  5.75  8.0"
      ]
     },
     "execution_count": 472,
     "metadata": {},
     "output_type": "execute_result"
    }
   ],
   "source": [
    "# the average hand, using very simple est methods, would have a theoretical cost of 20 mana\n",
    "# with this estimation, we can assume probability of a hand to have < 10 mana will be very low\n",
    "\n",
    "# actually let's do some more statistics with pandas\n",
    "import pandas as pd\n",
    "df = pd.DataFrame({'Mana cost': only_mana})\n",
    "\n",
    "df.describe().T"
   ]
  },
  {
   "attachments": {},
   "cell_type": "markdown",
   "metadata": {},
   "source": [
    "Let's get some notation in here because I need to become better at that.\n",
    "\n",
    "**Binomial coefficient formula**\n",
    "<h2> \n",
    "\n",
    "$n \\choose k$ = $\\frac{n!}{k!(n-k)!}$\n",
    "\n",
    "</h2>\n",
    "\n",
    "$n$ is used to calculate the number of **combinations** of size $k$ that can be selected from a set of $n$ items.\n",
    "\n",
    "**Permutation formula**\n",
    "\n",
    "<h2>\n",
    "\n",
    "$_n P _r$ = $\\frac{n!}{n-r!}$\n",
    "\n",
    "</h2>\n",
    "\n",
    "$n$ = total number of objects / set / population <br>\n",
    "$r$ = number of objects selected / subset of n or sample set\n",
    "\n",
    "Here $n$ is used to calculate the number of **arrangements** of $r$ items that can be selected from a set of $n$ items.\n"
   ]
  },
  {
   "cell_type": "code",
   "execution_count": 473,
   "metadata": {},
   "outputs": [
    {
     "name": "stdout",
     "output_type": "stream",
     "text": [
      "There are 142506 possivle combinations of 5 drawn cards in a deck of 30 cards. \n",
      "\n",
      "There are 17100720 possible arrangements of 5 drawn cards in a deck of 30 cards. \n",
      "\n",
      "Given a partially randomized mana cost for each card, how many of these combinations add up to 10 or less mana?\n"
     ]
    }
   ],
   "source": [
    "# the deck can be shuffled in 30! (factorial) combinations but we're interested in a hand of five cards\n",
    "\n",
    "# Binomial coefficient formula: n choose k = n! / (k! * (n-k)!)\n",
    "# we could import factorial function from math library or use scipy library but this should work as well\n",
    "\n",
    "def fact(n):\n",
    "    if n == 0: return 1\n",
    "    else: return n * fact(n - 1)\n",
    "\n",
    "def binom_coeff(n,k):\n",
    "    return fact(n)/(fact(k) * fact(n-k))\n",
    "\n",
    "n = 30 # cards in deck\n",
    "k = 5  # cards in hand\n",
    "\n",
    "print(f\"There are {int(binom_coeff(n,k))} possivle combinations of {k} drawn cards in a deck of {n} cards. \\n\")\n",
    "\n",
    "def permutation(n,r):\n",
    "    return fact(n)/fact(n-r)\n",
    "\n",
    "print(f\"There are {int(permutation(n,k))} possible arrangements of {k} drawn cards in a deck of {n} cards. \\n\")\n",
    "\n",
    "print('Given a partially randomized mana cost for each card, how many of these combinations add up to 10 or less mana?')\n",
    "\n"
   ]
  },
  {
   "cell_type": "code",
   "execution_count": 474,
   "metadata": {},
   "outputs": [
    {
     "data": {
      "text/plain": [
       "array([0, 3, 5, 8, 4, 2, 3, 1, 4])"
      ]
     },
     "execution_count": 474,
     "metadata": {},
     "output_type": "execute_result"
    }
   ],
   "source": [
    "np.bincount(only_mana) # damn i need to learn more numpy"
   ]
  },
  {
   "attachments": {},
   "cell_type": "markdown",
   "metadata": {},
   "source": [
    "**Cartesian product maybe can help**"
   ]
  },
  {
   "cell_type": "code",
   "execution_count": 475,
   "metadata": {},
   "outputs": [
    {
     "name": "stdout",
     "output_type": "stream",
     "text": [
      "Iteration 1: [3 7 5 8 3]\n",
      "Iteration 2: [6 4 8 8 3]\n",
      "Iteration 3: [8 8 3 3 8]\n",
      "Iteration 4: [8 3 8 4 3]\n",
      "Iteration 5: [6 4 6 1 2]\n",
      "Iteration 6: [4 2 5 3 2]\n",
      "Iteration 7: [4 2 6 8 3]\n",
      "Iteration 8: [4 7 3 7 5]\n",
      "Iteration 9: [1 4 8 3 8]\n",
      "Iteration 10: [2 3 8 2 3]\n",
      "Iteration 11: [1 3 4 2 4]\n",
      "Iteration 12: [2 2 1 8 2]\n",
      "Iteration 13: [5 3 2 5 8]\n",
      "Iteration 14: [4 7 3 1 3]\n",
      "Iteration 15: [8 2 3 3 3]\n",
      "Iteration 16: [2 3 6 8 6]\n",
      "Iteration 17: [8 2 5 3 3]\n",
      "Iteration 18: [4 3 5 6 7]\n",
      "Iteration 19: [6 8 8 8 3]\n",
      "Iteration 20: [3 8 3 3 1]\n",
      "Iteration 21: [6 2 3 6 1]\n",
      "Iteration 22: [3 2 6 3 4]\n",
      "Iteration 23: [4 2 1 1 1]\n",
      "Final hand: [4 2 1 1 1]\n",
      "Number of iterations: 24\n"
     ]
    }
   ],
   "source": [
    "# The brute force loop method - because Python is more fun than theoretical statistics (sry bout it x)\n",
    "hand = only_mana\n",
    "\n",
    "# might wanna use enumerate here...\n",
    "count = 0\n",
    "\n",
    "# Loop while the sum of mana cost from drawn cards >10\n",
    "while sum(hand) > 10:\n",
    "    # Update the list by randomly selecting a value to decrease by 1\n",
    "    hand = np.random.choice(only_mana, size=5)\n",
    "    print(f\"Iteration {count+1}: {hand}\")\n",
    "    count += 1\n",
    "\n",
    "print(f\"Final hand: {hand}\")\n",
    "print(f\"Number of iterations: {count +1}\")\n"
   ]
  },
  {
   "cell_type": "code",
   "execution_count": 476,
   "metadata": {},
   "outputs": [
    {
     "data": {
      "text/plain": [
       "(7, array([1, 1, 2, 3, 3]))"
      ]
     },
     "execution_count": 476,
     "metadata": {},
     "output_type": "execute_result"
    }
   ],
   "source": [
    "# ok now we just run this loop like a thousand times and check the values (this is so stupid...)\n",
    "# let's quickly rewrite the the loop and make it callable\n",
    "\n",
    "def nested_af():\n",
    "    hand = only_mana\n",
    "    # Initialize iteration count to 0\n",
    "    count = 0\n",
    "\n",
    "    # Loop while the sum of mana cost from drawn cards >10\n",
    "    while sum(hand) > 10:\n",
    "        # Update the list by randomly selecting a value to decrease by 1\n",
    "        hand = np.random.choice(only_mana, size=5)\n",
    "        count += 1\n",
    "\n",
    "    # returns array with the iteration count and the final, <10 mana cost hand\n",
    "    return count +1, hand\n",
    "\n",
    "\n",
    "a, b = nested_af()\n",
    "a, b # ok it works, let's run it"
   ]
  },
  {
   "cell_type": "code",
   "execution_count": 482,
   "metadata": {},
   "outputs": [
    {
     "data": {
      "text/plain": [
       "0.50086100469601"
      ]
     },
     "execution_count": 482,
     "metadata": {},
     "output_type": "execute_result"
    }
   ],
   "source": [
    "all_iterations = []\n",
    "\n",
    "for i in range(1000):\n",
    "    a, b = nested_af()\n",
    "    all_iterations.append(1/a)\n",
    "\n",
    "# but since we wanna sum up the percentages\n",
    "probs_dec = [i/100 for i in all_iterations]\n",
    "prob_sum = sum(probs_dec)\n",
    "\n",
    "prob_sum"
   ]
  },
  {
   "cell_type": "code",
   "execution_count": 483,
   "metadata": {},
   "outputs": [],
   "source": [
    "# Ok, I got it to converge to like ~0.5% Perhaps should check it with a more valid method??"
   ]
  },
  {
   "attachments": {},
   "cell_type": "markdown",
   "metadata": {},
   "source": [
    "ANYWAY. My final answer is. 0.5%. I should probablt go study some statistics."
   ]
  },
  {
   "attachments": {},
   "cell_type": "markdown",
   "metadata": {},
   "source": [
    "---\n",
    "\n",
    "**Day 2**\n",
    "\n",
    ">Me: Give me a challenge in probability by using Hearthstone as an example scenario. Perhaps some card drawing mechanics or lethal probability by drawing a certain card etc.\n",
    "\n",
    ">chatGPT: Sure, here's a challenge for you!\n",
    " Let's say you're playing Hearthstone and you have a certain deck of 30 cards. In this deck, there are 4 legendary cards, 10 rare cards, 12 common cards and 4 basic cards.\n",
    " Challenge:\n",
    " What is the probability of drawing a legendary card in the first 3 draws of your deck, assuming the cards are not replaced once they have been drawn?"
   ]
  },
  {
   "cell_type": "code",
   "execution_count": 469,
   "metadata": {},
   "outputs": [
    {
     "name": "stdout",
     "output_type": "stream",
     "text": [
      "Probability of drawing a legendary card on the first three draws: 14.557%\n"
     ]
    }
   ],
   "source": [
    "# There are multiple ways (obviously) to aproach this challenge.\n",
    "\n",
    "draw1, draw2, draw3 = 4/30, 4/29, 4/28\n",
    "print(f'Probability of drawing a legendary card on the first three draws: {(draw1+draw2+draw3 * 100):.3f}%')"
   ]
  },
  {
   "attachments": {},
   "cell_type": "markdown",
   "metadata": {},
   "source": [
    "---\n",
    "\n",
    "**Day 1**\n",
    "\n",
    "\n",
    "\n",
    "<div style=\"display: flex; flex-direction: row;\">\n",
    "  <div style=\"flex: 1;\">\n",
    "    <img src='https://wojakparadise.net/wojak/9450/img'>\n",
    "  </div>\n",
    "  \n",
    "  <div style=\"flex: 2;\">\n",
    "    Me: Give me a very easy linear system of equations to solve.\n",
    "\n",
    "    ChatGPT: Sure, here's a simple one:\n",
    "\n",
    "    x + y + z = 6\n",
    "    2x + 2y + 2z = 12\n",
    "    3x + 3y + 3z = 18\n",
    "  </div>\n",
    "</div>\n",
    "\n",
    "Interesting, this look like some kind of arithmic sequence.\n",
    "Just by looking at it I can tell there's an easy solution:\n",
    "letting all coefficients (x,y,x) equal to 2.\n",
    "\n",
    "Let's try it."
   ]
  },
  {
   "cell_type": "code",
   "execution_count": 467,
   "metadata": {},
   "outputs": [
    {
     "name": "stdout",
     "output_type": "stream",
     "text": [
      "Equation 1 is satisfied.\n",
      "Equation 2 is satisfied.\n",
      "Equation 3 is satisfied.\n",
      "True True True\n"
     ]
    }
   ],
   "source": [
    "import numpy as np\n",
    "coeff = np.array([[1, 1, 1],\n",
    "                  [2, 2, 2],\n",
    "                  [3, 3, 3]])\n",
    "const = np.array( [6, 12, 18])\n",
    "\n",
    "# Since we assume all coefficients have the same value, we can create a rather unconventional loop\n",
    "for i in range(3):\n",
    "    if coeff[i].sum() * 2 != const[i]:\n",
    "        print(f\"Equation {i+1} is not satisfied.\")\n",
    "    else:\n",
    "        print(f\"Equation {i+1} is satisfied.\")\n",
    "x,y,z = 2,2,2\n",
    "\n",
    "# \"Proof\"\n",
    "print(sum(coeff[0])*x == const[0], sum(coeff[1])*y == const[1], sum(coeff[2])*z == const[2])\n"
   ]
  },
  {
   "cell_type": "code",
   "execution_count": 468,
   "metadata": {},
   "outputs": [
    {
     "name": "stdout",
     "output_type": "stream",
     "text": [
      "[0 0 0]\n",
      "0\n",
      "hm, ok, this doesn't work, what about\n",
      "[1 1 1]\n",
      "6\n",
      "ok, now we just got the first equation\n"
     ]
    }
   ],
   "source": [
    "# Well, I'm glad that worked out, but what if I intuitively didn't 'see' the 2? How could I have satisfied the equations?\n",
    "# Also, are there other possible solutions? I guess we could try to create some rrf.\n",
    "\n",
    "print((coeff[0] * - 2) + coeff[1])\n",
    "print((const[0] * - 2) + const[1])\n",
    "print(\"hm, ok, this doesn't work, what about\")\n",
    "print((coeff[0] * - 1) + coeff[1])\n",
    "print((const[0] * - 1) + const[1])\n",
    "print(\"ok, now we just got the first equation\")\n",
    "\n",
    "# yeah imma get back to this, maybe"
   ]
  },
  {
   "attachments": {},
   "cell_type": "markdown",
   "metadata": {},
   "source": [
    "---\n",
    "\n",
    "**Day 0**\n",
    "\n",
    ">Me: give me a super simple math problem to solve, we're talking like grade school arithmetic but formulate it like an illiterate peasant from the 15th century\n",
    "\n",
    ">chatGPT: Ahoy! Me needeth thee to answereth this poser: if me have 3 apples and me give 2 to me mate, how many apples be left for me to enjoy with me ale?\n",
    "\n",
    "<img src=https://cdn.historycollection.com/wp-content/uploads/2018/09/Peasants-pic-11-Wikimedia-Commons.jpg>"
   ]
  },
  {
   "cell_type": "code",
   "execution_count": 466,
   "metadata": {},
   "outputs": [
    {
     "name": "stdout",
     "output_type": "stream",
     "text": [
      "1\n"
     ]
    },
    {
     "data": {
      "text/plain": [
       "True"
      ]
     },
     "execution_count": 466,
     "metadata": {},
     "output_type": "execute_result"
    }
   ],
   "source": [
    "print(3-2)\n",
    "\n",
    "\"\"\"proof\"\"\"\n",
    "1 == 3-2"
   ]
  },
  {
   "attachments": {},
   "cell_type": "markdown",
   "metadata": {},
   "source": [
    ">Me: Ahoy! I reckon you will have one apple and your mate will have two! How generous!\n",
    "\n",
    ">chatGPT: Ye be a clever one, matey! 'Tis correct! Ye have solved the poser with ease. Enjoy ye one apple and me hope ye find it to be a delicious treat!\n",
    "\n",
    "OK that was stupid, but it's a proof of concept. I will be asking chatGPT (OR someone else/myself) for a math problem to solve with Python each day until whenever I'm fed up with this idea.\n",
    "\n",
    "*Disclaimer: As I've previously used chatGPT and received some rather... creative calculations, I think it's a good idea to double check that the answers is indeed correct through other means.*\n",
    "\n",
    "---"
   ]
  }
 ],
 "metadata": {
  "kernelspec": {
   "display_name": "base",
   "language": "python",
   "name": "python3"
  },
  "language_info": {
   "codemirror_mode": {
    "name": "ipython",
    "version": 3
   },
   "file_extension": ".py",
   "mimetype": "text/x-python",
   "name": "python",
   "nbconvert_exporter": "python",
   "pygments_lexer": "ipython3",
   "version": "3.9.13"
  },
  "orig_nbformat": 4,
  "vscode": {
   "interpreter": {
    "hash": "0d0c64f4ca14d7c75074812946c2ab55ba1d04af789566aa8a3b79bf5125fa88"
   }
  }
 },
 "nbformat": 4,
 "nbformat_minor": 2
}
