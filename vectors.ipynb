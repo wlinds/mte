{
 "cells": [
  {
   "attachments": {},
   "cell_type": "markdown",
   "metadata": {},
   "source": [
    "# Vector representation\n",
    "\n",
    ">**Geometric form**<br>\n",
    "    v = (3, 4)<br><br>\n",
    "Ordered pair (a,b) that represents direction and magnitude.   \n",
    "\n",
    "> **Component form**<br>\n",
    "    v = 3i + 4j<br><br>\n",
    "Component form can represent the vector v as a linear combination of the basis vectors i and j, which are the unit vectors pointing in available positive directions, in 2D, usually horizontal (x-axis) and vertical (y-axis).\n",
    "\n",
    "> **Polar form**<br>\n",
    "    v = (5, $\\theta$), where $\\theta$ = arctan(4/3)<br><br>\n",
    "Represented by the pair (r, $\\theta$), where r is the magnitude (or norm) and $\\theta$ is the angle between the vector and the positive x-axis.\n",
    "\n",
    "> **Homogenous coordinates**<br>\n",
    "    v = (3, 4, 1)<br><br>\n",
    "This form represents the vector as a three-element tuple (x, y, w), where w is a scaling factor.\n",
    "\n",
    "> **Matrix form**<br>\n",
    "    v = \n",
    "$\\begin{bmatrix}\n",
    "3\\\\\n",
    "4\n",
    "\\end{bmatrix}$<br><br>\n",
    "Column or row matrix, used to perform linear transformations such as rotations and translations of multiple vectors simultaneously. \n",
    "\n",
    "> **Parametric form**<br>\n",
    "    v = (3t, 4t), where t is a scalar paramterer<br><br>\n",
    "A vector represented as a linear combination of two or more parameterized vectors, used to describe curves and surfaces in space using a finite number of equations.\n"
   ]
  },
  {
   "attachments": {},
   "cell_type": "markdown",
   "metadata": {},
   "source": [
    "> **Normalized form**<br>\n",
    "    $\\hat v$ = (3/5, 4/5)<br><br>\n",
    "Unit vector, which has a magnitude of 1. Only represents the direction.\n",
    "\n",
    "> **Projection form**<br>\n",
    "    v projected onto x-axis = (3,0)<br>\n",
    "    v projected onto y-axis = (0,4)<br><br>\n",
    "The projection of one vector onto another vector, used to find the component of one vector along another vector.\n",
    "\n",
    "> **Function form**<br>\n",
    "    v(t) = 3t(i) + 4t(j)<br>   \n",
    "Where i and j are the unit vectors in the x-and y-directions and t is a scalar parameter that varies over a range of values, typically representing time. The value of t can be used to parameterize a curve or path in space.\n",
    "\n",
    "> **Dual form**<br>\n",
    "    w = (a, b) mapped to the scalar 3a + 4b<br>\n",
    "\n",
    "\n"
   ]
  },
  {
   "attachments": {},
   "cell_type": "markdown",
   "metadata": {},
   "source": [
    "Plotting the same vector represented in different forms"
   ]
  },
  {
   "cell_type": "code",
   "execution_count": 53,
   "metadata": {},
   "outputs": [
    {
     "name": "stdout",
     "output_type": "stream",
     "text": [
      "v_component=array([3, 4])\n",
      "v_polar=(5, 53.13010235415598)\n"
     ]
    },
    {
     "data": {
      "image/png": "[encoded data removed]",
      "text/plain": [
       "<Figure size 640x480 with 1 Axes>"
      ]
     },
     "metadata": {},
     "output_type": "display_data"
    }
   ],
   "source": [
    "import numpy as np\n",
    "import matplotlib.pyplot as plt\n",
    "\n",
    "# geometric (red arrow on plot)\n",
    "v_geo = np.array([3, 4])\n",
    "plt.quiver(0, 0, v_geo[0], v_geo[1], angles='xy', scale_units='xy', scale=1, color='red')\n",
    "# offset by 1 unit on x axis for visual representation\n",
    "\n",
    "# function (multiple black arrows on plot)\n",
    "def v_func(t):\n",
    "    return np.array([-3*t, -4*t]) # negative x and negative y for plotting\n",
    "t = np.linspace(0, 1, 10)\n",
    "plt.quiver(*np.zeros_like(v_func(t)), *v_func(t), angles='xy', scale_units='xy', scale=1)\n",
    "\n",
    "# parametric form (blue line on plot)\n",
    "v_para = np.array([-3, 4]) # negative x-axis for plotting\n",
    "t = np.linspace(0, 1, 10)\n",
    "plt.plot(v_para[0]*t, v_para[1]*t)\n",
    "\n",
    "# matrix form (green line on plot)\n",
    "v_matrix = np.array([[3], [-4]])\n",
    "origin = np.zeros((2,1))\n",
    "v_matrix_values = np.hstack((origin, v_matrix))\n",
    "plt.plot(*v_matrix_values, color='green')\n",
    "\n",
    "# component\n",
    "v_component = np.array([3, 4])\n",
    "print(f\"{v_component=}\")\n",
    "\n",
    "# polar\n",
    "v_polar = (5, np.arctan2(v_geo[1], v_geo[0]) * 180 / np.pi)\n",
    "print(f\"{v_polar=}\")\n",
    "\n",
    "plt.xlim([-5, 5])\n",
    "plt.ylim([-5, 5])\n",
    "plt.show()"
   ]
  }
 ],
 "metadata": {
  "kernelspec": {
   "display_name": "Python 3",
   "language": "python",
   "name": "python3"
  },
  "language_info": {
   "codemirror_mode": {
    "name": "ipython",
    "version": 3
   },
   "file_extension": ".py",
   "mimetype": "text/x-python",
   "name": "python",
   "nbconvert_exporter": "python",
   "pygments_lexer": "ipython3",
   "version": "3.9.13"
  },
  "orig_nbformat": 4,
  "vscode": {
   "interpreter": {
    "hash": "aee8b7b246df8f9039afb4144a1f6fd8d2ca17a180786b69acc140d282b71a49"
   }
  }
 },
 "nbformat": 4,
 "nbformat_minor": 2
}
