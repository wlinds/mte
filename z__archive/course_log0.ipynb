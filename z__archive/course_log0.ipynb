{
 "cells": [
  {
   "cell_type": "markdown",
   "metadata": {},
   "source": [
    "### Linear systems of equations\n",
    "- augmented matrix (utökad matris).\n",
    "- Gaussian elimination\n",
    "- reduced row echelon form (=reducerad trappstegsform) (sympy.rref)\n",
    "- pivot columns, bound and free varibles\n",
    "\n",
    "- scipy.linalg.solve\n",
    "\n",
    "```x, y, z, pi = sp.symbols('x,y,z, pi')``` $= x, y, z, \\pi$"
   ]
  },
  {
   "cell_type": "code",
   "execution_count": 205,
   "metadata": {},
   "outputs": [
    {
     "name": "stdout",
     "output_type": "stream",
     "text": [
      "<class 'numpy.ndarray'> 2 9 (3, 3)\n"
     ]
    },
    {
     "data": {
      "text/plain": [
       "array([[0, 1, 2],\n",
       "       [pi, 4, 5],\n",
       "       [-1, -2, -3]], dtype=object)"
      ]
     },
     "execution_count": 205,
     "metadata": {},
     "output_type": "execute_result"
    }
   ],
   "source": [
    "import numpy as np\n",
    "import sympy as sp\n",
    "\n",
    "x, y, z, pi = sp.symbols('x,y,z, pi')\n",
    "\n",
    "# Two dimensional array\n",
    "a = np.array([[0,1,2],[pi,4,5],[-1,-2,-3]], dtype=object)\n",
    "\n",
    "print(type(a), a.ndim, a.size, a.shape)\n",
    "a\n"
   ]
  },
  {
   "cell_type": "code",
   "execution_count": 206,
   "metadata": {},
   "outputs": [
    {
     "data": {
      "text/latex": [
       "$\\displaystyle \\left[\\begin{matrix}0 & 1 & 2\\\\\\pi & 4 & 5\\\\-1 & -2 & -3\\end{matrix}\\right]$"
      ],
      "text/plain": [
       "Matrix([\n",
       "[ 0,  1,  2],\n",
       "[pi,  4,  5],\n",
       "[-1, -2, -3]])"
      ]
     },
     "execution_count": 206,
     "metadata": {},
     "output_type": "execute_result"
    }
   ],
   "source": [
    "# As sympy matrice (matrix)\n",
    "sp.Matrix(a)"
   ]
  },
  {
   "cell_type": "code",
   "execution_count": 207,
   "metadata": {},
   "outputs": [
    {
     "name": "stdout",
     "output_type": "stream",
     "text": [
      "a =  6.928203230275509\n",
      "4⋅√3\n"
     ]
    },
    {
     "data": {
      "text/latex": [
       "$\\displaystyle 4 \\sqrt{3}$"
      ],
      "text/plain": [
       "4*sqrt(3)"
      ]
     },
     "execution_count": 207,
     "metadata": {},
     "output_type": "execute_result"
    }
   ],
   "source": [
    "# formats\n",
    "n = 12\n",
    "print('a = ', 2*np.sqrt(n)) # regualar print in IDE (prints result)\n",
    "sp.pprint(2*sp.sqrt(n)) # prettyprinter module (prints expression)\n",
    "2*sp.sqrt(n) # jupyter notebook output as sympy symbols (prints expression)"
   ]
  },
  {
   "attachments": {},
   "cell_type": "markdown",
   "metadata": {},
   "source": [
    "Sympy matrices are mutable while ndarrays are immutable.\n",
    "\n",
    " ---\n",
    "\n",
    "## #Basic operations and conversions numpy/sympy\n",
    "\n",
    " Let's create a matrix and do some basic operations:"
   ]
  },
  {
   "cell_type": "code",
   "execution_count": 208,
   "metadata": {},
   "outputs": [
    {
     "data": {
      "text/latex": [
       "$\\displaystyle \\left[\\begin{matrix}-1 & 5 & 0\\\\-2 & 6 & \\pi\\\\-5 & 1 & \\frac{1}{4}\\end{matrix}\\right]$"
      ],
      "text/plain": [
       "Matrix([\n",
       "[-1, 5,   0],\n",
       "[-2, 6,  pi],\n",
       "[-5, 1, 1/4]])"
      ]
     },
     "execution_count": 208,
     "metadata": {},
     "output_type": "execute_result"
    }
   ],
   "source": [
    "def get_grid():\n",
    "    \"Weird function, made another (also weird) one in course_log1\"\n",
    "\n",
    "    def get_row():\n",
    "\n",
    "        # randomize key pair\n",
    "        my_pair = np.random.randint([-8,0], [0,8])\n",
    "\n",
    "         # appends random element from pool to end of key pair\n",
    "        pool_of_constants = [pi, sp.Rational(2,3), 0, sp.Rational(1/4)]\n",
    "\n",
    "        return np.append(my_pair, pool_of_constants[np.random.randint(0,4)])\n",
    "\n",
    "    # create matrix\n",
    "    a = np.array(\n",
    "        [get_row(),\n",
    "         get_row(),\n",
    "         get_row()\n",
    "    ])\n",
    "\n",
    "\n",
    "    return a\n",
    "\n",
    "a = get_grid()\n",
    "\n",
    "sp.Matrix(a)"
   ]
  },
  {
   "cell_type": "code",
   "execution_count": 209,
   "metadata": {},
   "outputs": [
    {
     "name": "stdout",
     "output_type": "stream",
     "text": [
      "1/4\n"
     ]
    }
   ],
   "source": [
    "r = sp.Rational(1,4)\n",
    "print(r)"
   ]
  },
  {
   "cell_type": "code",
   "execution_count": 210,
   "metadata": {},
   "outputs": [],
   "source": [
    "# fractions will not convert, issues with float to int type conversions probably"
   ]
  },
  {
   "cell_type": "code",
   "execution_count": 211,
   "metadata": {},
   "outputs": [
    {
     "data": {
      "text/latex": [
       "$\\displaystyle \\left[\\begin{matrix}3 & 2 & -17\\\\7 & 8 & 4\\\\6 & 3 & \\pi\\end{matrix}\\right]$"
      ],
      "text/plain": [
       "Matrix([\n",
       "[3, 2, -17],\n",
       "[7, 8,   4],\n",
       "[6, 3,  pi]])"
      ]
     },
     "execution_count": 211,
     "metadata": {},
     "output_type": "execute_result"
    }
   ],
   "source": [
    "# Create array with NumPy\n",
    "my_matrix = np.array(\n",
    "    [[3,  2,  -17],\n",
    "     [7,  8,    4],\n",
    "     [6,  3,   pi]\n",
    "])\n",
    "\n",
    "# Convert to SymPy matrice formating\n",
    "sp.Matrix(my_matrix)"
   ]
  },
  {
   "cell_type": "code",
   "execution_count": 212,
   "metadata": {},
   "outputs": [
    {
     "data": {
      "text/latex": [
       "$\\displaystyle \\left[\\begin{matrix}3 & 2 & -17\\\\6 & 3 & \\pi\\\\7 & 8 & 4\\end{matrix}\\right]$"
      ],
      "text/plain": [
       "Matrix([\n",
       "[3, 2, -17],\n",
       "[6, 3,  pi],\n",
       "[7, 8,   4]])"
      ]
     },
     "execution_count": 212,
     "metadata": {},
     "output_type": "execute_result"
    }
   ],
   "source": [
    "# Swap row 3 and 2 by reassigning index\n",
    "my_matrix[[2,1]] = my_matrix[[1,2]]\n",
    "\n",
    "sp.Matrix(my_matrix)"
   ]
  },
  {
   "cell_type": "code",
   "execution_count": 213,
   "metadata": {},
   "outputs": [
    {
     "data": {
      "text/latex": [
       "$\\displaystyle \\left[\\begin{matrix}6 & 3 & \\pi\\\\3 & 2 & -17\\\\7 & 8 & 4\\end{matrix}\\right]$"
      ],
      "text/plain": [
       "Matrix([\n",
       "[6, 3,  pi],\n",
       "[3, 2, -17],\n",
       "[7, 8,   4]])"
      ]
     },
     "execution_count": 213,
     "metadata": {},
     "output_type": "execute_result"
    }
   ],
   "source": [
    "min_matris = sp.Matrix(my_matrix)\n",
    "\n",
    "# How to swap with SymPy (swapping back rows)\n",
    "min_matris.row_swap(1,0)\n",
    "\n",
    "min_matris"
   ]
  },
  {
   "cell_type": "code",
   "execution_count": 214,
   "metadata": {},
   "outputs": [
    {
     "data": {
      "text/latex": [
       "$\\displaystyle \\left[\\begin{matrix}3.0 & 1.5 & 0.5 \\pi\\\\3 & 2 & -17\\\\7 & 8 & 4\\end{matrix}\\right]$"
      ],
      "text/plain": [
       "Matrix([\n",
       "[3.0, 1.5, 0.5*pi],\n",
       "[  3,   2,    -17],\n",
       "[  7,   8,      4]])"
      ]
     },
     "execution_count": 214,
     "metadata": {},
     "output_type": "execute_result"
    }
   ],
   "source": [
    "# convert back to NumPy\n",
    "my_matrix = np.array(min_matris)\n",
    "\n",
    "# multiply row 1 by 1/2\n",
    "my_matrix[0] = np.multiply(my_matrix[0],0.5)\n",
    "\n",
    "sp.Matrix(my_matrix)"
   ]
  },
  {
   "cell_type": "code",
   "execution_count": 215,
   "metadata": {},
   "outputs": [
    {
     "data": {
      "text/latex": [
       "$\\displaystyle \\left[\\begin{matrix}1 & -2\\\\0 & 1\\end{matrix}\\right]$"
      ],
      "text/plain": [
       "Matrix([\n",
       "[1, -2],\n",
       "[0,  1]])"
      ]
     },
     "execution_count": 215,
     "metadata": {},
     "output_type": "execute_result"
    }
   ],
   "source": [
    "# Row addition works by multiplying one row in the matrix and then adding it to another row.\n",
    "\n",
    "# Easy example matrix:\n",
    "B = np.matrix(\n",
    "    [[1,-2],\n",
    "     [-4,9]])\n",
    "\n",
    "# Multiply row 1 by 4 and add it to row 2:\n",
    "B[1] = B[1]+B[0]*4\n",
    "\n",
    "sp.Matrix(B)"
   ]
  },
  {
   "attachments": {},
   "cell_type": "markdown",
   "metadata": {},
   "source": [
    "---\n",
    "\n",
    "## #numpy.linalg.solve\n",
    "\n",
    "numpy.linalg.solve requires A to be square:\n",
    "\n",
    " $$A * x = b$$\n",
    "\n",
    "where $A$ is a matrix of coefficients, $x$ is a vector of variables, and $b$ is a vector of constants.\n",
    "\n",
    " \n",
    "Gaussian elimination with row interchanges is used to factor $A$ as $A$ = P * L * U , where\n",
    " \n",
    "### **P:** permutation matrix\n",
    "   Square matrix with exactly one 1 in each row and each column, with all other entries being 0:\n",
    "\n",
    "$$\\begin{bmatrix} 0 & 1 & 0 & 0 \\\\ 1 & 0 & 0 & 0 \\\\ 0 & 0 & 0 & 1 \\\\ 0 & 0 & 1 & 0 \\end{bmatrix}$$\n",
    "   \n",
    "### **L:** unit lower triangular\n",
    "   square matrix with 1s on the diagonal (i.e., the entries where the row and column indices are the same) and 0s above the diagonal:\n",
    "\n",
    "   $$\\begin{bmatrix} 1 & 0 & 0 & 0 \\\\ 4 & 1 & 0 & 0 \\\\ 7 & 5 & 1 & 0 \\\\ 2 & 6 & 8 & 1 \\end{bmatrix}$$\n",
    "   \n",
    "### **U:** upper triangular\n",
    "   a square matrix that has 0s below the diagonal:\n",
    "\n",
    "   $$\\begin{bmatrix} 1 & 2 & 3 & 4 \\\\ 0 & 5 & 6 & 7 \\\\ 0 & 0 & 8 & 9 \\\\ 0 & 0 & 0 & 10 \\end{bmatrix}$$\n",
    "\n",
    "\n",
    " \n",
    " The factored form of A is then used to solve the above system.\n",
    "\n",
    "---\n",
    "\n",
    " Ok, let's reset the matrix to something easy, say we have the equations:\n",
    "$$3x + 4y = 8$$\n",
    "$$x - 2y = -4$$"
   ]
  },
  {
   "cell_type": "code",
   "execution_count": 216,
   "metadata": {},
   "outputs": [
    {
     "data": {
      "text/plain": [
       "array([[0.],\n",
       "       [2.]])"
      ]
     },
     "execution_count": 216,
     "metadata": {},
     "output_type": "execute_result"
    }
   ],
   "source": [
    "# we can write it in the form Ax = b as follows:\n",
    "\n",
    "# coefficients matrix\n",
    "A = [[3, 4],\n",
    "     [1, -2]]\n",
    "\n",
    "# vector of variables\n",
    "x = [[x],\n",
    "     [y]]\n",
    "\n",
    "# vector of constants\n",
    "b = [[8],\n",
    "     [-4]]\n",
    "\n",
    "# Same but with NumPy\n",
    "A = np.array([[3, 4],\n",
    "              [1, -2]])\n",
    "b = np.array([[8],\n",
    "              [-4]])\n",
    "\n",
    "solution = np.linalg.solve(A, b)\n",
    "\n",
    "solution"
   ]
  },
  {
   "attachments": {},
   "cell_type": "markdown",
   "metadata": {},
   "source": [
    "This returns the solution vector as np.array:\n",
    "\n",
    "```\n",
    "array([[0.],\n",
    "       [2.]])\n",
    " ```\n",
    "\n",
    "which we can then use to find the values of x and y that satisfy the original equations."
   ]
  },
  {
   "cell_type": "code",
   "execution_count": 217,
   "metadata": {},
   "outputs": [
    {
     "name": "stdout",
     "output_type": "stream",
     "text": [
      "[ True]\n",
      "[ True]\n"
     ]
    }
   ],
   "source": [
    "x, y = solution[0], solution[1]\n",
    "\n",
    "print(3*x + 4*y == 8)\n",
    "print(x - 2*y == -4)"
   ]
  },
  {
   "cell_type": "code",
   "execution_count": 218,
   "metadata": {},
   "outputs": [
    {
     "data": {
      "text/plain": [
       "array([[ 1,  1,  1],\n",
       "       [ 1,  4, -4],\n",
       "       [ 0,  1,  1]])"
      ]
     },
     "execution_count": 218,
     "metadata": {},
     "output_type": "execute_result"
    }
   ],
   "source": [
    "# Create array with NumPy\n",
    "my_matrix = np.array(\n",
    "    [[1,  1,  1],\n",
    "     [1, 4,    -4],\n",
    "     [0,  1,   1]\n",
    "])\n",
    "\n",
    "my_matrix"
   ]
  },
  {
   "cell_type": "markdown",
   "metadata": {},
   "source": [
    "---"
   ]
  },
  {
   "cell_type": "code",
   "execution_count": 219,
   "metadata": {},
   "outputs": [
    {
     "name": "stdout",
     "output_type": "stream",
     "text": [
      "[[ 6 -8  7  6]\n",
      " [-4  5  0 -4]\n",
      " [ 7  3  7  2]\n",
      " [-8  3 -7  0]]\n",
      "Sum = 15\n",
      "Sum along diagonals = 18\n",
      "[[-0.14049587 -0.19008264  0.04132231 -0.09917355]\n",
      " [-0.04958678 -0.00826446  0.1322314   0.08264463]\n",
      " [ 0.13931523  0.2136954   0.0094451   0.00590319]\n",
      " [ 0.0785124  -0.07024793  0.12396694  0.20247934]]\n"
     ]
    }
   ],
   "source": [
    "# with random integers\n",
    "arr3 = np.random.randint(-8,8, size=(4,4))\n",
    "\n",
    "print(arr3)\n",
    "print(f'Sum = {np.sum(arr3)}') # sum\n",
    "print(f'Sum along diagonals = {np.trace(arr3)}')\n",
    "\n",
    "print(np.linalg.inv(arr3))"
   ]
  },
  {
   "cell_type": "code",
   "execution_count": 220,
   "metadata": {},
   "outputs": [
    {
     "data": {
      "text/plain": [
       "array([[-0.14049587, -0.19008264,  0.04132231, -0.09917355],\n",
       "       [-0.04958678, -0.00826446,  0.1322314 ,  0.08264463],\n",
       "       [ 0.13931523,  0.2136954 ,  0.0094451 ,  0.00590319],\n",
       "       [ 0.0785124 , -0.07024793,  0.12396694,  0.20247934]])"
      ]
     },
     "execution_count": 220,
     "metadata": {},
     "output_type": "execute_result"
    }
   ],
   "source": [
    "np.linalg.inv(arr3)"
   ]
  },
  {
   "cell_type": "code",
   "execution_count": 221,
   "metadata": {},
   "outputs": [
    {
     "name": "stdout",
     "output_type": "stream",
     "text": [
      "<class 'numpy.ndarray'> 2\n",
      "[[ 0  1 -2]\n",
      " [ 3  4  5]\n",
      " [ 6  7 -8]]\n",
      "\n",
      "<class 'numpy.ndarray'>\n",
      "(3, 3) 2\n"
     ]
    },
    {
     "data": {
      "text/latex": [
       "$\\displaystyle \\left[\\begin{matrix}0 & 1 & -2\\\\3 & 4 & 5\\\\6 & 7 & -8\\end{matrix}\\right]$"
      ],
      "text/plain": [
       "Matrix([\n",
       "[0, 1, -2],\n",
       "[3, 4,  5],\n",
       "[6, 7, -8]])"
      ]
     },
     "execution_count": 221,
     "metadata": {},
     "output_type": "execute_result"
    }
   ],
   "source": [
    "a = np.array([[0,1,-2],[3,4,5],[6,7,-8]])\n",
    "\n",
    "print(type(a),a.ndim)\n",
    "print(a)\n",
    "print()\n",
    "print(type(a))\n",
    "print(a.shape, a.ndim)\n",
    "\n",
    "sp.Matrix(a)"
   ]
  },
  {
   "cell_type": "code",
   "execution_count": 222,
   "metadata": {},
   "outputs": [
    {
     "data": {
      "text/latex": [
       "$\\displaystyle \\left[\\begin{matrix}6 & 3 & 0\\\\7 & 4 & 1\\\\-8 & 5 & -2\\end{matrix}\\right]$"
      ],
      "text/plain": [
       "Matrix([\n",
       "[ 6, 3,  0],\n",
       "[ 7, 4,  1],\n",
       "[-8, 5, -2]])"
      ]
     },
     "execution_count": 222,
     "metadata": {},
     "output_type": "execute_result"
    }
   ],
   "source": [
    "## 2D vector rotation\n",
    "def rotate_matrix(matrix):\n",
    "  transposed_matrix = [[matrix[j][i] for j in range(len(matrix))] for i in range(len(matrix[0]))]\n",
    "  \n",
    "  # reverse the rows of the transposed matrix\n",
    "  return [row[::-1] for row in transposed_matrix]\n",
    "\n",
    "# rotate the matrix\n",
    "a = rotate_matrix(a)\n",
    "\n",
    "a = np.array(a)\n",
    "\n",
    "sp.Matrix(a)"
   ]
  },
  {
   "cell_type": "code",
   "execution_count": 223,
   "metadata": {},
   "outputs": [
    {
     "name": "stdout",
     "output_type": "stream",
     "text": [
      "[[ 2  1  2]\n",
      " [ 3 -1  2]\n",
      " [ 2  1 -1]]\n"
     ]
    },
    {
     "data": {
      "text/plain": [
       "array([ 0.66666667, -0.66666667,  0.66666667])"
      ]
     },
     "execution_count": 223,
     "metadata": {},
     "output_type": "execute_result"
    }
   ],
   "source": [
    "arr = np.random.randint(-2, 4, size=(3, 3))\n",
    "\n",
    "print(arr)\n",
    "np.linalg.solve(arr,[2,4,0])"
   ]
  },
  {
   "cell_type": "code",
   "execution_count": 224,
   "metadata": {},
   "outputs": [
    {
     "data": {
      "text/latex": [
       "$\\displaystyle \\left[\\begin{matrix}0\\\\0\\\\0\\end{matrix}\\right]$"
      ],
      "text/plain": [
       "Matrix([\n",
       "[0],\n",
       "[0],\n",
       "[0]])"
      ]
     },
     "execution_count": 224,
     "metadata": {},
     "output_type": "execute_result"
    }
   ],
   "source": [
    "arr1 = sp.Matrix(np.linalg.solve(arr,[2,4,0]).astype(int))\n",
    "arr1"
   ]
  },
  {
   "attachments": {},
   "cell_type": "markdown",
   "metadata": {},
   "source": [
    "## #RREF \n",
    "##### *Reduced Row Echelon Form* (=reducerad trappstegsform)\n",
    "is a way of putting a matrix into a specific standard form, which can make it easier to solve systems of linear equations. In order for a matrix to be in RREF, it must satisfy the following conditions:\n",
    "\n",
    "```\n",
    "1. All rows with non-zero entries must be above any rows of all zeros.\n",
    "2. The first non-zero entry in each row, called the \"leading coefficient\", must be 1.\n",
    "3. Each leading coefficient must be the only non-zero entry in its column.\n",
    "```\n",
    "\n",
    "For example, the matrix:\n",
    "\n",
    "$$\\begin{bmatrix} 1 & 2 & 3 & 4 \\\\ 0 & 1 & 2 & 3 \\\\ 0 & 0 & 0 & 1 \\end{bmatrix}$$\n",
    "\n",
    "is in RREF, because all of the conditions are satisfied. On the other hand, the matrix:\n",
    "\n",
    "\n",
    "$$\\begin{bmatrix} 1 & 2 & 3 & 4 \\\\ 0 & 1 & 2 & 3 \\\\ 0 & 0 & 1 & 0 \\end{bmatrix}$$\n",
    "\n",
    "is not in RREF, because the third row does not satisfy condition 3 (the leading coefficient, 1, is not the only non-zero entry in its column). To put this matrix into RREF, we would need to perform some row operations, such as swapping rows or multiplying rows by constants, to make it satisfy all three conditions."
   ]
  },
  {
   "cell_type": "code",
   "execution_count": 225,
   "metadata": {},
   "outputs": [
    {
     "data": {
      "text/plain": [
       "(Matrix([\n",
       " [1, 0, 0, -2],\n",
       " [0, 1, 0,  3],\n",
       " [0, 0, 1,  0]]),\n",
       " (0, 1, 2))"
      ]
     },
     "execution_count": 225,
     "metadata": {},
     "output_type": "execute_result"
    }
   ],
   "source": [
    "a = sp.Matrix([\n",
    "[1, 2, 3, 4],\n",
    "[0, 1, 2, 3],\n",
    "[0, 0, 1, 0],\n",
    "])\n",
    "\n",
    "a = a.rref()\n",
    "\n",
    "a"
   ]
  },
  {
   "attachments": {},
   "cell_type": "markdown",
   "metadata": {},
   "source": [
    "When using the `rref()` function from the SymPy library, the output will be the reduced row echelon form of the given matrix, as well as a tuple of indices of the pivot columns.\n",
    "\n",
    "As mentioned above:\n",
    "\n",
    "**pivot columns** <==> columns of the matrix that contain the **leading coefficients of each row**"
   ]
  },
  {
   "cell_type": "code",
   "execution_count": 226,
   "metadata": {},
   "outputs": [
    {
     "data": {
      "text/plain": [
       "(Matrix([\n",
       " [1, -2, 0, 0, 3],\n",
       " [0,  0, 1, 0, 2],\n",
       " [0,  0, 0, 1, 1],\n",
       " [0,  0, 0, 0, 0]]),\n",
       " (0, 2, 3))"
      ]
     },
     "execution_count": 226,
     "metadata": {},
     "output_type": "execute_result"
    }
   ],
   "source": [
    "a = sp.Matrix([\n",
    "    [1, -2, 3, 5, 14], \n",
    "    [-2, 4, -5, -10, -26],\n",
    "    [2, -4, 6, 11, 29],\n",
    "    [-1, 2, -2, -5, -12]]\n",
    ")\n",
    "\n",
    "a.rref()"
   ]
  }
 ],
 "metadata": {
  "kernelspec": {
   "display_name": "Linear-Algebra-pe6oVe-5",
   "language": "python",
   "name": "python3"
  },
  "language_info": {
   "codemirror_mode": {
    "name": "ipython",
    "version": 3
   },
   "file_extension": ".py",
   "mimetype": "text/x-python",
   "name": "python",
   "nbconvert_exporter": "python",
   "pygments_lexer": "ipython3",
   "version": "3.9.13 (main, May 24 2022, 21:28:44) \n[Clang 13.0.0 (clang-1300.0.29.30)]"
  },
  "orig_nbformat": 4,
  "vscode": {
   "interpreter": {
    "hash": "0b080f3f090e107761d748933b73efb8ebd8b73fe30be312d896cdc05cffc17f"
   }
  }
 },
 "nbformat": 4,
 "nbformat_minor": 2
}
