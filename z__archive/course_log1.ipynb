{
 "cells": [
  {
   "attachments": {},
   "cell_type": "markdown",
   "metadata": {},
   "source": [
    "### Linear systems of equations\n",
    "- augmented matrix (utökad matris).\n",
    "- Gaussian elimination\n",
    "- reduced row echelon form (=reducerad trappstegsform) (sympy.rref)\n",
    "- pivot columns, bound and free varibles\n",
    "\n",
    "- scipy.linalg.solve"
   ]
  },
  {
   "cell_type": "code",
   "execution_count": 584,
   "metadata": {},
   "outputs": [],
   "source": [
    "import sympy as sp\n",
    "import numpy as np\n",
    "\n",
    "x, y, z, pi = sp.symbols('x,y,z, pi')"
   ]
  },
  {
   "cell_type": "code",
   "execution_count": 585,
   "metadata": {},
   "outputs": [
    {
     "data": {
      "text/latex": [
       "$\\displaystyle \\left[\\begin{matrix}-8 & -2 & -5\\\\5 & 1 & 5\\\\0 & 0 & 3\\end{matrix}\\right]$"
      ],
      "text/plain": [
       "Matrix([\n",
       "[-8, -2, -5],\n",
       "[ 5,  1,  5],\n",
       "[ 0,  0,  3]])"
      ]
     },
     "execution_count": 585,
     "metadata": {},
     "output_type": "execute_result"
    }
   ],
   "source": [
    "# generate square vector\n",
    "def get_vector(size:int):\n",
    "        # create vector from size, floor elements to int\n",
    "        V = np.floor(np.random.rand(size,size)*10).astype(int)\n",
    "\n",
    "        # make row 3 <= 0\n",
    "        V[2] =-abs(V[2])\n",
    "\n",
    "        # add zero to one (1) random position\n",
    "        V[np.random.randint(0,2),np.random.randint(0,2)] = 0\n",
    "        # add pi to one (1) random position\n",
    "        V[0,0] = np.pi\n",
    "\n",
    "        V = np.rot90(V)\n",
    "\n",
    "        V[0,0] = V[1,0]\n",
    "\n",
    "        V = np.rot90(V)\n",
    "\n",
    "        return V\n",
    "\n",
    "# random ints 3 * 3 array\n",
    "V = get_vector(3)\n",
    "sp.Matrix(V)\n"
   ]
  },
  {
   "cell_type": "code",
   "execution_count": 593,
   "metadata": {},
   "outputs": [
    {
     "data": {
      "text/latex": [
       "$\\displaystyle \\left[\\begin{matrix}-8 & -2 & -5 & 7\\\\5 & 1 & 5 & -2\\\\0 & 0 & 3 & 3\\end{matrix}\\right]$"
      ],
      "text/plain": [
       "Matrix([\n",
       "[-8, -2, -5,  7],\n",
       "[ 5,  1,  5, -2],\n",
       "[ 0,  0,  3,  3]])"
      ]
     },
     "execution_count": 593,
     "metadata": {},
     "output_type": "execute_result"
    }
   ],
   "source": [
    "def augment(V, constants):\n",
    "    A = np.column_stack([V, constants])\n",
    "    return A\n",
    "\n",
    "A = augment(V,[7,-2,3])\n",
    "\n",
    "sp.Matrix(A)"
   ]
  },
  {
   "cell_type": "code",
   "execution_count": 594,
   "metadata": {},
   "outputs": [
    {
     "data": {
      "text/latex": [
       "$\\displaystyle \\left\\{\\left( -1, \\  -2, \\  1\\right)\\right\\}$"
      ],
      "text/plain": [
       "{(-1, -2, 1)}"
      ]
     },
     "execution_count": 594,
     "metadata": {},
     "output_type": "execute_result"
    }
   ],
   "source": [
    "A = sp.Matrix(A)\n",
    "sp.linsolve(A, x,z,y)"
   ]
  },
  {
   "cell_type": "code",
   "execution_count": 588,
   "metadata": {},
   "outputs": [
    {
     "data": {
      "text/latex": [
       "$\\displaystyle \\left\\{\\left( -1, \\  -2, \\  2\\right)\\right\\}$"
      ],
      "text/plain": [
       "{(-1, -2, 2)}"
      ]
     },
     "execution_count": 588,
     "metadata": {},
     "output_type": "execute_result"
    }
   ],
   "source": [
    "# Define equations\n",
    "eq1 = -2*x -9*y - 9*z - 2\n",
    "eq2 = 8*x + 4*y + 8*z - 0\n",
    "eq3 = 2*x + 2*y + 3*z - 0\n",
    "\n",
    "\n",
    "# Solve the system of equations\n",
    "sp.linsolve([eq1, eq2, eq3], (x, y, z))"
   ]
  }
 ],
 "metadata": {
  "kernelspec": {
   "display_name": "Linear-Algebra-pe6oVe-5",
   "language": "python",
   "name": "python3"
  },
  "language_info": {
   "codemirror_mode": {
    "name": "ipython",
    "version": 3
   },
   "file_extension": ".py",
   "mimetype": "text/x-python",
   "name": "python",
   "nbconvert_exporter": "python",
   "pygments_lexer": "ipython3",
   "version": "3.9.13"
  },
  "orig_nbformat": 4,
  "vscode": {
   "interpreter": {
    "hash": "0b080f3f090e107761d748933b73efb8ebd8b73fe30be312d896cdc05cffc17f"
   }
  }
 },
 "nbformat": 4,
 "nbformat_minor": 2
}
